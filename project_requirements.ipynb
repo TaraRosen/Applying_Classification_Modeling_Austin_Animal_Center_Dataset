{
 "cells": [
  {
   "cell_type": "code",
   "execution_count": null,
   "metadata": {},
   "outputs": [],
   "source": [
    "# End of Module Project ds-042219\n",
    "\n",
    "## Applying Classification Modeling\n",
    "\n",
    "For this module's project, you will answer a classification data science question using multiple models and present the results of your project. In doing so, we want you to utilize all of the different tools we have learned over the course: data cleaning, EDA, feature engineering/transformation, feature selection, hyperparameter tuning, and model evaluation. Each student will give a 4 minute presentation on Friday to explain their project to their fellow classmates.\n",
    "\n",
    "\n",
    "#### Data Set Information:\n",
    "\n",
    "- [Drug Use dataset](https://archive.ics.uci.edu/ml/datasets/Drug+consumption+%28quantified%29)\n",
    "- [Wine Quality dataset](https://archive.ics.uci.edu/ml/datasets/wine+quality)\n",
    "- [Bach Choral dataset](https://archive.ics.uci.edu/ml/datasets/Bach+Choral+Harmony)\n",
    "- [Forest Cover dataset](https://www.kaggle.com/uciml/forest-cover-type-dataset)\n",
    "- [Pima Indians dataset](https://www.kaggle.com/uciml/pima-indians-diabetes-database)\n",
    "- [Breast Cancer Wisconsin (Diagnostic) dataset](https://www.kaggle.com/uciml/breast-cancer-wisconsin-data)\n",
    "- [Pulsar Star dataset](https://www.kaggle.com/pavanraj159/predicting-a-pulsar-star)\n",
    "\n",
    "\n",
    "\n",
    "You will fit at least four different classification models (KNN, Logistic Regression, Decision Trees, Random Forest, XGBoost, etc.) to make respective predictions for the data you choose to work with. Then you will compare the performance of those four models on a test set to find the best one.  \n",
    "\n",
    "\n",
    "## Process/Expectations\n",
    "\n",
    "\n",
    "1. Clean up your data set so that you can perform an EDA.\n",
    "    - This includes handling null values, categorical variables, removing unimportant columns, and removing outliers.\n",
    "\n",
    "\n",
    "2. Perform EDA to identify opportunities to create new features. EDA is a critical part of your process. Not only does it help you to think about new features to create, but it allows you to develop hypothesis about each variable.\n",
    "    - [Great Example of EDA for classification](https://www.kaggle.com/stephaniestallworth/titanic-eda-classification-end-to-end)\n",
    "    - [Using Pairplots with Classification](https://towardsdatascience.com/visualizing-data-with-pair-plots-in-python-f228cf529166)\n",
    "\n",
    "\n",
    "3. Engineer new features.\n",
    "    - Create **at least three non-linear features** (polynomial, log transformations, and/or interaction features).\n",
    "    - Additionally, you must also create **at least three more new features** *that are not* interactions or polynomial transformations.\n",
    "        - *For example, you can create a new dummy variable that is based on the value of a continuous variable (billamount6 >2000) or take the average of some past amounts.*\n",
    "\n",
    "\n",
    "4. Perform some feature selection. This will be an iterative process where you can try different versions and eventually settle on the best version.\n",
    "\n",
    "5. You must fit **four** models to your data and tune **at least two hyperparameters** per model.\n",
    "\n",
    "6. Decide on which evaluation metric you think is most appropriate for your project, evaluate how well your models perform, and identify your best model.\n",
    "\n",
    "7. Use the outputs of your different models, along with your EDA work, to provide insight to your original question.\n",
    "  - *What made people more likely to survive the titanic?*\n",
    "  - *What is a big predictor of a person's likelihood to default on a credit card?*\n",
    "\n",
    "8. Explain how your model can be used to in the real world to solve a problem.   \n"
   ]
  }
 ],
 "metadata": {
  "kernelspec": {
   "display_name": "Python 3",
   "language": "python",
   "name": "python3"
  },
  "language_info": {
   "codemirror_mode": {
    "name": "ipython",
    "version": 3
   },
   "file_extension": ".py",
   "mimetype": "text/x-python",
   "name": "python",
   "nbconvert_exporter": "python",
   "pygments_lexer": "ipython3",
   "version": "3.7.3"
  }
 },
 "nbformat": 4,
 "nbformat_minor": 2
}
