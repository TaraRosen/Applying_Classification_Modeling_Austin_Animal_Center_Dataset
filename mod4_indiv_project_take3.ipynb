{
 "cells": [
  {
   "cell_type": "markdown",
   "metadata": {},
   "source": [
    "predict outcome = live release through adoption\n",
    "\n",
    "or \n",
    "\n",
    "dead release (deceased, euthanized, disposal,\n",
    "missing)\n",
    "\n",
    "to become no kill\n",
    "\n",
    "Does dog breed affect outcome?\n",
    "Does cat breed affect outcome?\n",
    "\n",
    "Does age affect outcome? Puppies/kittens have more live releases?\n",
    "\n",
    "Does sex affect outcome?\n",
    "\n",
    "Does species affect outcome?\n",
    "\n",
    "Does having a name affect outcome?\n",
    "\n",
    "SCRP - stray cat return program"
   ]
  },
  {
   "cell_type": "markdown",
   "metadata": {},
   "source": [
    "### Import Packages"
   ]
  },
  {
   "cell_type": "code",
   "execution_count": 1,
   "metadata": {},
   "outputs": [],
   "source": [
    "import pandas as pd\n",
    "from sodapy import Socrata\n",
    "import config\n",
    "import numpy as np\n",
    "import datetime\n",
    "\n",
    "import pandas as pd\n",
    "pd.set_option(\"display.max_columns\", 2200)\n",
    "pd.set_option(\"display.max_rows\", 200)\n",
    "import numpy as np\n",
    "import seaborn  as sns\n",
    "sns.set(style=\"whitegrid\")\n",
    "from sklearn.model_selection import train_test_split\n",
    "from sklearn.preprocessing import StandardScaler\n",
    "from matplotlib import pyplot as plt\n",
    "%matplotlib inline  \n",
    "from sklearn.feature_selection import SelectKBest, f_regression,mutual_info_regression\n",
    "from sklearn.feature_selection import RFECV\n",
    "from sklearn import linear_model\n",
    "from sklearn.metrics import make_scorer, accuracy_score, f1_score, precision_score, recall_score\n",
    "from sklearn.dummy import DummyClassifier\n",
    "from sklearn.linear_model import LogisticRegression\n",
    "from sklearn.utils import resample\n",
    "from imblearn.over_sampling import SMOTE\n",
    "from collections import Counter\n",
    "from imblearn.under_sampling import TomekLinks\n",
    "from sklearn.tree import DecisionTreeClassifier\n",
    "from sklearn.neighbors import KNeighborsClassifier\n",
    "from sklearn import metrics\n",
    "from sklearn.model_selection import GridSearchCV\n",
    "from sklearn.linear_model import LinearRegression \n",
    "from sklearn.model_selection import cross_val_score\n",
    "from sklearn.model_selection import KFold\n",
    "from itertools import combinations\n",
    "import re\n",
    "from sklearn.metrics import classification_report,confusion_matrix\n",
    "from sklearn.ensemble import BaggingClassifier, RandomForestClassifier\n",
    "#Ignore warnings\n",
    "import warnings\n",
    "warnings.filterwarnings('ignore')\n",
    "\n",
    "# Keeping track of runtime.\n",
    "import timeit\n",
    "\n",
    "# Decision trees\n",
    "from sklearn import tree\n",
    "from IPython.display import Image\n",
    "\n",
    "# Packages for rendering tree.\n",
    "import pydotplus\n",
    "import graphviz\n",
    "\n",
    "import itertools #(for confusion matrix)"
   ]
  },
  {
   "cell_type": "markdown",
   "metadata": {},
   "source": [
    "### Import Data"
   ]
  },
  {
   "cell_type": "code",
   "execution_count": 2,
   "metadata": {},
   "outputs": [],
   "source": [
    "# intake database\n",
    "intakes = pd.read_csv('austin_animal_center_intakes.csv')"
   ]
  },
  {
   "cell_type": "code",
   "execution_count": 3,
   "metadata": {},
   "outputs": [],
   "source": [
    "# outcome database\n",
    "out = pd.read_csv('austin_animal_center_outcomes.csv')"
   ]
  },
  {
   "cell_type": "code",
   "execution_count": 4,
   "metadata": {
    "scrolled": false
   },
   "outputs": [
    {
     "data": {
      "text/html": [
       "<div>\n",
       "<style scoped>\n",
       "    .dataframe tbody tr th:only-of-type {\n",
       "        vertical-align: middle;\n",
       "    }\n",
       "\n",
       "    .dataframe tbody tr th {\n",
       "        vertical-align: top;\n",
       "    }\n",
       "\n",
       "    .dataframe thead th {\n",
       "        text-align: right;\n",
       "    }\n",
       "</style>\n",
       "<table border=\"1\" class=\"dataframe\">\n",
       "  <thead>\n",
       "    <tr style=\"text-align: right;\">\n",
       "      <th></th>\n",
       "      <th>Unnamed: 0</th>\n",
       "      <th>age_upon_intake</th>\n",
       "      <th>animal_id</th>\n",
       "      <th>animal_type</th>\n",
       "      <th>breed</th>\n",
       "      <th>color</th>\n",
       "      <th>datetime</th>\n",
       "      <th>datetime2</th>\n",
       "      <th>found_location</th>\n",
       "      <th>intake_condition</th>\n",
       "      <th>intake_type</th>\n",
       "      <th>name</th>\n",
       "      <th>sex_upon_intake</th>\n",
       "    </tr>\n",
       "  </thead>\n",
       "  <tbody>\n",
       "    <tr>\n",
       "      <th>0</th>\n",
       "      <td>0</td>\n",
       "      <td>1 year</td>\n",
       "      <td>A792238</td>\n",
       "      <td>Dog</td>\n",
       "      <td>American Bulldog Mix</td>\n",
       "      <td>Brown/White</td>\n",
       "      <td>2019-06-24T21:09:00.000</td>\n",
       "      <td>2019-06-24T21:09:00.000</td>\n",
       "      <td>Red River And Cesar Chavez in Austin (TX)</td>\n",
       "      <td>Normal</td>\n",
       "      <td>Stray</td>\n",
       "      <td>Cujo</td>\n",
       "      <td>Intact Male</td>\n",
       "    </tr>\n",
       "  </tbody>\n",
       "</table>\n",
       "</div>"
      ],
      "text/plain": [
       "   Unnamed: 0 age_upon_intake animal_id animal_type                 breed  \\\n",
       "0           0          1 year   A792238         Dog  American Bulldog Mix   \n",
       "\n",
       "         color                 datetime                datetime2  \\\n",
       "0  Brown/White  2019-06-24T21:09:00.000  2019-06-24T21:09:00.000   \n",
       "\n",
       "                              found_location intake_condition intake_type  \\\n",
       "0  Red River And Cesar Chavez in Austin (TX)           Normal       Stray   \n",
       "\n",
       "   name sex_upon_intake  \n",
       "0  Cujo     Intact Male  "
      ]
     },
     "execution_count": 4,
     "metadata": {},
     "output_type": "execute_result"
    }
   ],
   "source": [
    "intakes.head(1)"
   ]
  },
  {
   "cell_type": "code",
   "execution_count": 5,
   "metadata": {
    "scrolled": true
   },
   "outputs": [
    {
     "data": {
      "text/html": [
       "<div>\n",
       "<style scoped>\n",
       "    .dataframe tbody tr th:only-of-type {\n",
       "        vertical-align: middle;\n",
       "    }\n",
       "\n",
       "    .dataframe tbody tr th {\n",
       "        vertical-align: top;\n",
       "    }\n",
       "\n",
       "    .dataframe thead th {\n",
       "        text-align: right;\n",
       "    }\n",
       "</style>\n",
       "<table border=\"1\" class=\"dataframe\">\n",
       "  <thead>\n",
       "    <tr style=\"text-align: right;\">\n",
       "      <th></th>\n",
       "      <th>Unnamed: 0</th>\n",
       "      <th>age_upon_outcome</th>\n",
       "      <th>animal_id</th>\n",
       "      <th>animal_type</th>\n",
       "      <th>breed</th>\n",
       "      <th>color</th>\n",
       "      <th>date_of_birth</th>\n",
       "      <th>datetime</th>\n",
       "      <th>monthyear</th>\n",
       "      <th>name</th>\n",
       "      <th>outcome_subtype</th>\n",
       "      <th>outcome_type</th>\n",
       "      <th>sex_upon_outcome</th>\n",
       "    </tr>\n",
       "  </thead>\n",
       "  <tbody>\n",
       "    <tr>\n",
       "      <th>0</th>\n",
       "      <td>0</td>\n",
       "      <td>8 years</td>\n",
       "      <td>A790111</td>\n",
       "      <td>Cat</td>\n",
       "      <td>Domestic Shorthair Mix</td>\n",
       "      <td>Blue Tabby</td>\n",
       "      <td>2011-03-04T00:00:00.000</td>\n",
       "      <td>2019-06-25T07:58:00.000</td>\n",
       "      <td>2019-06-25T07:58:00.000</td>\n",
       "      <td>*Rick</td>\n",
       "      <td>Foster</td>\n",
       "      <td>Adoption</td>\n",
       "      <td>Neutered Male</td>\n",
       "    </tr>\n",
       "  </tbody>\n",
       "</table>\n",
       "</div>"
      ],
      "text/plain": [
       "   Unnamed: 0 age_upon_outcome animal_id animal_type                   breed  \\\n",
       "0           0          8 years   A790111         Cat  Domestic Shorthair Mix   \n",
       "\n",
       "        color            date_of_birth                 datetime  \\\n",
       "0  Blue Tabby  2011-03-04T00:00:00.000  2019-06-25T07:58:00.000   \n",
       "\n",
       "                 monthyear   name outcome_subtype outcome_type  \\\n",
       "0  2019-06-25T07:58:00.000  *Rick          Foster     Adoption   \n",
       "\n",
       "  sex_upon_outcome  \n",
       "0    Neutered Male  "
      ]
     },
     "execution_count": 5,
     "metadata": {},
     "output_type": "execute_result"
    }
   ],
   "source": [
    "out.head(1)"
   ]
  },
  {
   "cell_type": "markdown",
   "metadata": {},
   "source": [
    "### Initial Data Transformation"
   ]
  },
  {
   "cell_type": "code",
   "execution_count": 6,
   "metadata": {},
   "outputs": [],
   "source": [
    "# some initial data transformation\n",
    "\n",
    "def transform_age(df, age_column):\n",
    "    \n",
    "    \"\"\"\n",
    "    Function to standardize ages:\n",
    "    1) split the age_upon_intake column into a\n",
    "    column containing the number and a column \n",
    "    containing the time period (weeks, month or year)\n",
    "    2) calculate the age in an age in days column and \n",
    "    an age in years column\n",
    "    \"\"\"\n",
    "    \n",
    "    df = df.loc[df.loc[:, age_column] != 'NULL']\n",
    "    range_column = age_column +'_calen_time'\n",
    "    df['age_in_d_w_or_y'], df[range_column] = df.loc[:, age_column].str.split(' ').str[0].fillna(0).astype(int), df.loc[:, age_column].str.split(' ').str[1].fillna(0)\n",
    "    df[range_column] = np.where(df[range_column].str.contains('day'), 1, \n",
    "                            np.where(df[range_column].str.contains('week'), 7, \n",
    "                                np.where(df[range_column].str.contains('month'), 30, \n",
    "                                    np.where(df[range_column].str.contains('year'), 365, 0)))).astype(int)\n",
    "    df[age_column + '_in_days'] = df[range_column] * df['age_in_d_w_or_y']\n",
    "    df[age_column + '_in_years'] = df[age_column + '_in_days']/365\n",
    "    return df\n",
    "\n",
    "def transform_date(df, event):\n",
    "    \n",
    "    \"\"\"\n",
    "    Function to:\n",
    "    1) convert intake datetime\n",
    "    2) split datetime into separate month,\n",
    "    year and weekday columns\n",
    "    \"\"\"\n",
    "    \n",
    "    event_date = event + '_datetime'\n",
    "    df[event_date] = pd.to_datetime(df['datetime'])\n",
    "    df[event + '_month'] = df[event_date].dt.month\n",
    "    df[event + '_year'] = df[event_date].dt.year\n",
    "    df[event + '_weekday'] = df[event_date].dt.weekday_name\n",
    "    df.rename(columns={event + '_name': 'name'}, inplace=True)\n",
    "    return df\n",
    "\n",
    "def create_unique_id(df, event):\n",
    "    \n",
    "    \"\"\"\n",
    "    an animal that had come in and out of  \n",
    "    the shelter more than once would be given the\n",
    "    same animal_id number for each intake, \n",
    "    therefore it was necessery to create a unique \n",
    "    animal id for each animal to eliminate what may\n",
    "    be viewed as duplicate entries\n",
    "    \"\"\"\n",
    "    \n",
    "    df.reset_index(inplace=True)               \n",
    "    df[event + '_number'] = df.groupby(['animal_id'])[event + '_datetime'].rank(method='dense', ascending=False)\n",
    "    df['animal_id_new'] = df['animal_id'] + '_' + df[event + '_number'].astype(int).astype(str)\n",
    "    return df\n",
    "    \n",
    "def transform_birthdates(df):\n",
    "    \n",
    "    \"\"\"\n",
    "    Function to:\n",
    "    1) convert date of birth column to datetime\n",
    "    2) split datetime into separate month and year \n",
    "    columns\n",
    "    \"\"\"\n",
    "    \n",
    "    df['date_of_birth'] = pd.to_datetime(df['date_of_birth'])\n",
    "    df['dob_year'] = df['date_of_birth'].dt.year\n",
    "    df['dob_month'] = df['date_of_birth'].dt.month\n",
    "    return df"
   ]
  },
  {
   "cell_type": "code",
   "execution_count": 7,
   "metadata": {},
   "outputs": [],
   "source": [
    "# running initial data transformation functions\n",
    "# on intake dataframe\n",
    "\n",
    "intakes = transform_age(intakes, 'age_upon_intake')\n",
    "intakes = transform_date(intakes, 'intake')\n",
    "\n",
    "# an animal that had come in and out of  \n",
    "# the shelter more than once would be given the\n",
    "# same animal_id number for each intake, \n",
    "# therefore it was necessery to create a unique \n",
    "# animal id for each animal to eliminate what may\n",
    "# be viewed as duplicate entries\n",
    "\n",
    "intakes.reset_index(inplace=True)\n",
    "intakes['intake_number'] = intakes.groupby(['animal_id'])['intake_datetime'].rank(method='dense', ascending=False)\n",
    "intakes['animal_id_new'] = intakes['animal_id'] + '_' + intakes['intake_number'].astype(int).astype(str)\n",
    "\n",
    "# running initial data transformation functions\n",
    "# on outcome dataframe\n",
    "\n",
    "out = transform_age(out, 'age_upon_outcome')\n",
    "out = transform_date(out, 'outcome')\n",
    "out = create_unique_id(out, 'outcome')\n",
    "out = transform_birthdates(out)"
   ]
  },
  {
   "cell_type": "code",
   "execution_count": 8,
   "metadata": {
    "scrolled": true
   },
   "outputs": [
    {
     "data": {
      "text/html": [
       "<div>\n",
       "<style scoped>\n",
       "    .dataframe tbody tr th:only-of-type {\n",
       "        vertical-align: middle;\n",
       "    }\n",
       "\n",
       "    .dataframe tbody tr th {\n",
       "        vertical-align: top;\n",
       "    }\n",
       "\n",
       "    .dataframe thead th {\n",
       "        text-align: right;\n",
       "    }\n",
       "</style>\n",
       "<table border=\"1\" class=\"dataframe\">\n",
       "  <thead>\n",
       "    <tr style=\"text-align: right;\">\n",
       "      <th></th>\n",
       "      <th>index</th>\n",
       "      <th>Unnamed: 0</th>\n",
       "      <th>age_upon_intake</th>\n",
       "      <th>animal_id</th>\n",
       "      <th>animal_type</th>\n",
       "      <th>breed</th>\n",
       "      <th>color</th>\n",
       "      <th>datetime</th>\n",
       "      <th>datetime2</th>\n",
       "      <th>found_location</th>\n",
       "      <th>intake_condition</th>\n",
       "      <th>intake_type</th>\n",
       "      <th>name</th>\n",
       "      <th>sex_upon_intake</th>\n",
       "      <th>age_in_d_w_or_y</th>\n",
       "      <th>age_upon_intake_calen_time</th>\n",
       "      <th>age_upon_intake_in_days</th>\n",
       "      <th>age_upon_intake_in_years</th>\n",
       "      <th>intake_datetime</th>\n",
       "      <th>intake_month</th>\n",
       "      <th>intake_year</th>\n",
       "      <th>intake_weekday</th>\n",
       "      <th>intake_number</th>\n",
       "      <th>animal_id_new</th>\n",
       "    </tr>\n",
       "  </thead>\n",
       "  <tbody>\n",
       "    <tr>\n",
       "      <th>0</th>\n",
       "      <td>0</td>\n",
       "      <td>0</td>\n",
       "      <td>1 year</td>\n",
       "      <td>A792238</td>\n",
       "      <td>Dog</td>\n",
       "      <td>American Bulldog Mix</td>\n",
       "      <td>Brown/White</td>\n",
       "      <td>2019-06-24T21:09:00.000</td>\n",
       "      <td>2019-06-24T21:09:00.000</td>\n",
       "      <td>Red River And Cesar Chavez in Austin (TX)</td>\n",
       "      <td>Normal</td>\n",
       "      <td>Stray</td>\n",
       "      <td>Cujo</td>\n",
       "      <td>Intact Male</td>\n",
       "      <td>1</td>\n",
       "      <td>365</td>\n",
       "      <td>365</td>\n",
       "      <td>1.0</td>\n",
       "      <td>2019-06-24 21:09:00</td>\n",
       "      <td>6</td>\n",
       "      <td>2019</td>\n",
       "      <td>Monday</td>\n",
       "      <td>1.0</td>\n",
       "      <td>A792238_1</td>\n",
       "    </tr>\n",
       "  </tbody>\n",
       "</table>\n",
       "</div>"
      ],
      "text/plain": [
       "   index  Unnamed: 0 age_upon_intake animal_id animal_type  \\\n",
       "0      0           0          1 year   A792238         Dog   \n",
       "\n",
       "                  breed        color                 datetime  \\\n",
       "0  American Bulldog Mix  Brown/White  2019-06-24T21:09:00.000   \n",
       "\n",
       "                 datetime2                             found_location  \\\n",
       "0  2019-06-24T21:09:00.000  Red River And Cesar Chavez in Austin (TX)   \n",
       "\n",
       "  intake_condition intake_type  name sex_upon_intake  age_in_d_w_or_y  \\\n",
       "0           Normal       Stray  Cujo     Intact Male                1   \n",
       "\n",
       "   age_upon_intake_calen_time  age_upon_intake_in_days  \\\n",
       "0                         365                      365   \n",
       "\n",
       "   age_upon_intake_in_years     intake_datetime  intake_month  intake_year  \\\n",
       "0                       1.0 2019-06-24 21:09:00             6         2019   \n",
       "\n",
       "  intake_weekday  intake_number animal_id_new  \n",
       "0         Monday            1.0     A792238_1  "
      ]
     },
     "execution_count": 8,
     "metadata": {},
     "output_type": "execute_result"
    }
   ],
   "source": [
    "intakes.head(1)"
   ]
  },
  {
   "cell_type": "code",
   "execution_count": 9,
   "metadata": {},
   "outputs": [
    {
     "data": {
      "text/html": [
       "<div>\n",
       "<style scoped>\n",
       "    .dataframe tbody tr th:only-of-type {\n",
       "        vertical-align: middle;\n",
       "    }\n",
       "\n",
       "    .dataframe tbody tr th {\n",
       "        vertical-align: top;\n",
       "    }\n",
       "\n",
       "    .dataframe thead th {\n",
       "        text-align: right;\n",
       "    }\n",
       "</style>\n",
       "<table border=\"1\" class=\"dataframe\">\n",
       "  <thead>\n",
       "    <tr style=\"text-align: right;\">\n",
       "      <th></th>\n",
       "      <th>index</th>\n",
       "      <th>Unnamed: 0</th>\n",
       "      <th>age_upon_outcome</th>\n",
       "      <th>animal_id</th>\n",
       "      <th>animal_type</th>\n",
       "      <th>breed</th>\n",
       "      <th>color</th>\n",
       "      <th>date_of_birth</th>\n",
       "      <th>datetime</th>\n",
       "      <th>monthyear</th>\n",
       "      <th>name</th>\n",
       "      <th>outcome_subtype</th>\n",
       "      <th>outcome_type</th>\n",
       "      <th>sex_upon_outcome</th>\n",
       "      <th>age_in_d_w_or_y</th>\n",
       "      <th>age_upon_outcome_calen_time</th>\n",
       "      <th>age_upon_outcome_in_days</th>\n",
       "      <th>age_upon_outcome_in_years</th>\n",
       "      <th>outcome_datetime</th>\n",
       "      <th>outcome_month</th>\n",
       "      <th>outcome_year</th>\n",
       "      <th>outcome_weekday</th>\n",
       "      <th>outcome_number</th>\n",
       "      <th>animal_id_new</th>\n",
       "      <th>dob_year</th>\n",
       "      <th>dob_month</th>\n",
       "    </tr>\n",
       "  </thead>\n",
       "  <tbody>\n",
       "    <tr>\n",
       "      <th>0</th>\n",
       "      <td>0</td>\n",
       "      <td>0</td>\n",
       "      <td>8 years</td>\n",
       "      <td>A790111</td>\n",
       "      <td>Cat</td>\n",
       "      <td>Domestic Shorthair Mix</td>\n",
       "      <td>Blue Tabby</td>\n",
       "      <td>2011-03-04</td>\n",
       "      <td>2019-06-25T07:58:00.000</td>\n",
       "      <td>2019-06-25T07:58:00.000</td>\n",
       "      <td>*Rick</td>\n",
       "      <td>Foster</td>\n",
       "      <td>Adoption</td>\n",
       "      <td>Neutered Male</td>\n",
       "      <td>8</td>\n",
       "      <td>365</td>\n",
       "      <td>2920</td>\n",
       "      <td>8.0</td>\n",
       "      <td>2019-06-25 07:58:00</td>\n",
       "      <td>6</td>\n",
       "      <td>2019</td>\n",
       "      <td>Tuesday</td>\n",
       "      <td>1.0</td>\n",
       "      <td>A790111_1</td>\n",
       "      <td>2011</td>\n",
       "      <td>3</td>\n",
       "    </tr>\n",
       "  </tbody>\n",
       "</table>\n",
       "</div>"
      ],
      "text/plain": [
       "   index  Unnamed: 0 age_upon_outcome animal_id animal_type  \\\n",
       "0      0           0          8 years   A790111         Cat   \n",
       "\n",
       "                    breed       color date_of_birth                 datetime  \\\n",
       "0  Domestic Shorthair Mix  Blue Tabby    2011-03-04  2019-06-25T07:58:00.000   \n",
       "\n",
       "                 monthyear   name outcome_subtype outcome_type  \\\n",
       "0  2019-06-25T07:58:00.000  *Rick          Foster     Adoption   \n",
       "\n",
       "  sex_upon_outcome  age_in_d_w_or_y  age_upon_outcome_calen_time  \\\n",
       "0    Neutered Male                8                          365   \n",
       "\n",
       "   age_upon_outcome_in_days  age_upon_outcome_in_years    outcome_datetime  \\\n",
       "0                      2920                        8.0 2019-06-25 07:58:00   \n",
       "\n",
       "   outcome_month  outcome_year outcome_weekday  outcome_number animal_id_new  \\\n",
       "0              6          2019         Tuesday             1.0     A790111_1   \n",
       "\n",
       "   dob_year  dob_month  \n",
       "0      2011          3  "
      ]
     },
     "execution_count": 9,
     "metadata": {},
     "output_type": "execute_result"
    }
   ],
   "source": [
    "out.head(1)"
   ]
  },
  {
   "cell_type": "code",
   "execution_count": 10,
   "metadata": {},
   "outputs": [],
   "source": [
    "# dropping unneccessary columns and columns that will\n",
    "# be duplicated when dataframes merged\n",
    "\n",
    "int_cols_to_drop = ['Unnamed: 0', 'index']\n",
    "out_cols_to_drop = ['Unnamed: 0', 'index', 'animal_type', 'breed', 'color', 'age_in_d_w_or_y']\n",
    "\n",
    "intakes.drop(int_cols_to_drop, axis=1, inplace=True)\n",
    "out.drop(out_cols_to_drop, axis=1, inplace=True)"
   ]
  },
  {
   "cell_type": "code",
   "execution_count": 11,
   "metadata": {},
   "outputs": [],
   "source": [
    "# merge intake and outcome databases\n",
    "\n",
    "intakes.set_index('animal_id_new', inplace=True)\n",
    "out.set_index('animal_id_new', inplace=True)\n",
    "\n",
    "df = pd.merge(out, intakes, how='inner', \n",
    "                  right_index=True, left_index=True, suffixes=['_outcome', '_intake'])"
   ]
  },
  {
   "cell_type": "code",
   "execution_count": 12,
   "metadata": {},
   "outputs": [
    {
     "data": {
      "text/html": [
       "<div>\n",
       "<style scoped>\n",
       "    .dataframe tbody tr th:only-of-type {\n",
       "        vertical-align: middle;\n",
       "    }\n",
       "\n",
       "    .dataframe tbody tr th {\n",
       "        vertical-align: top;\n",
       "    }\n",
       "\n",
       "    .dataframe thead th {\n",
       "        text-align: right;\n",
       "    }\n",
       "</style>\n",
       "<table border=\"1\" class=\"dataframe\">\n",
       "  <thead>\n",
       "    <tr style=\"text-align: right;\">\n",
       "      <th></th>\n",
       "      <th>age_upon_outcome</th>\n",
       "      <th>animal_id_outcome</th>\n",
       "      <th>date_of_birth</th>\n",
       "      <th>datetime_outcome</th>\n",
       "      <th>monthyear</th>\n",
       "      <th>name_outcome</th>\n",
       "      <th>outcome_subtype</th>\n",
       "      <th>outcome_type</th>\n",
       "      <th>sex_upon_outcome</th>\n",
       "      <th>age_upon_outcome_calen_time</th>\n",
       "      <th>age_upon_outcome_in_days</th>\n",
       "      <th>age_upon_outcome_in_years</th>\n",
       "      <th>outcome_datetime</th>\n",
       "      <th>outcome_month</th>\n",
       "      <th>outcome_year</th>\n",
       "      <th>outcome_weekday</th>\n",
       "      <th>outcome_number</th>\n",
       "      <th>dob_year</th>\n",
       "      <th>dob_month</th>\n",
       "      <th>age_upon_intake</th>\n",
       "      <th>animal_id_intake</th>\n",
       "      <th>animal_type</th>\n",
       "      <th>breed</th>\n",
       "      <th>color</th>\n",
       "      <th>datetime_intake</th>\n",
       "      <th>datetime2</th>\n",
       "      <th>found_location</th>\n",
       "      <th>intake_condition</th>\n",
       "      <th>intake_type</th>\n",
       "      <th>name_intake</th>\n",
       "      <th>sex_upon_intake</th>\n",
       "      <th>age_in_d_w_or_y</th>\n",
       "      <th>age_upon_intake_calen_time</th>\n",
       "      <th>age_upon_intake_in_days</th>\n",
       "      <th>age_upon_intake_in_years</th>\n",
       "      <th>intake_datetime</th>\n",
       "      <th>intake_month</th>\n",
       "      <th>intake_year</th>\n",
       "      <th>intake_weekday</th>\n",
       "      <th>intake_number</th>\n",
       "    </tr>\n",
       "    <tr>\n",
       "      <th>animal_id_new</th>\n",
       "      <th></th>\n",
       "      <th></th>\n",
       "      <th></th>\n",
       "      <th></th>\n",
       "      <th></th>\n",
       "      <th></th>\n",
       "      <th></th>\n",
       "      <th></th>\n",
       "      <th></th>\n",
       "      <th></th>\n",
       "      <th></th>\n",
       "      <th></th>\n",
       "      <th></th>\n",
       "      <th></th>\n",
       "      <th></th>\n",
       "      <th></th>\n",
       "      <th></th>\n",
       "      <th></th>\n",
       "      <th></th>\n",
       "      <th></th>\n",
       "      <th></th>\n",
       "      <th></th>\n",
       "      <th></th>\n",
       "      <th></th>\n",
       "      <th></th>\n",
       "      <th></th>\n",
       "      <th></th>\n",
       "      <th></th>\n",
       "      <th></th>\n",
       "      <th></th>\n",
       "      <th></th>\n",
       "      <th></th>\n",
       "      <th></th>\n",
       "      <th></th>\n",
       "      <th></th>\n",
       "      <th></th>\n",
       "      <th></th>\n",
       "      <th></th>\n",
       "      <th></th>\n",
       "      <th></th>\n",
       "    </tr>\n",
       "  </thead>\n",
       "  <tbody>\n",
       "    <tr>\n",
       "      <th>A006100_1</th>\n",
       "      <td>10 years</td>\n",
       "      <td>A006100</td>\n",
       "      <td>2007-07-09</td>\n",
       "      <td>2017-12-07T00:00:00.000</td>\n",
       "      <td>2017-12-07T00:00:00.000</td>\n",
       "      <td>Scamp</td>\n",
       "      <td>NaN</td>\n",
       "      <td>Return to Owner</td>\n",
       "      <td>Neutered Male</td>\n",
       "      <td>365</td>\n",
       "      <td>3650</td>\n",
       "      <td>10.0</td>\n",
       "      <td>2017-12-07</td>\n",
       "      <td>12</td>\n",
       "      <td>2017</td>\n",
       "      <td>Thursday</td>\n",
       "      <td>1.0</td>\n",
       "      <td>2007</td>\n",
       "      <td>7</td>\n",
       "      <td>10 years</td>\n",
       "      <td>A006100</td>\n",
       "      <td>Dog</td>\n",
       "      <td>Spinone Italiano Mix</td>\n",
       "      <td>Yellow/White</td>\n",
       "      <td>2017-12-07T14:07:00.000</td>\n",
       "      <td>2017-12-07T14:07:00.000</td>\n",
       "      <td>Colony Creek And Hunters Trace in Austin (TX)</td>\n",
       "      <td>Normal</td>\n",
       "      <td>Stray</td>\n",
       "      <td>Scamp</td>\n",
       "      <td>Neutered Male</td>\n",
       "      <td>10</td>\n",
       "      <td>365</td>\n",
       "      <td>3650</td>\n",
       "      <td>10.0</td>\n",
       "      <td>2017-12-07 14:07:00</td>\n",
       "      <td>12</td>\n",
       "      <td>2017</td>\n",
       "      <td>Thursday</td>\n",
       "      <td>1.0</td>\n",
       "    </tr>\n",
       "  </tbody>\n",
       "</table>\n",
       "</div>"
      ],
      "text/plain": [
       "              age_upon_outcome animal_id_outcome date_of_birth  \\\n",
       "animal_id_new                                                    \n",
       "A006100_1             10 years           A006100    2007-07-09   \n",
       "\n",
       "                      datetime_outcome                monthyear name_outcome  \\\n",
       "animal_id_new                                                                  \n",
       "A006100_1      2017-12-07T00:00:00.000  2017-12-07T00:00:00.000        Scamp   \n",
       "\n",
       "              outcome_subtype     outcome_type sex_upon_outcome  \\\n",
       "animal_id_new                                                     \n",
       "A006100_1                 NaN  Return to Owner    Neutered Male   \n",
       "\n",
       "               age_upon_outcome_calen_time  age_upon_outcome_in_days  \\\n",
       "animal_id_new                                                          \n",
       "A006100_1                              365                      3650   \n",
       "\n",
       "               age_upon_outcome_in_years outcome_datetime  outcome_month  \\\n",
       "animal_id_new                                                              \n",
       "A006100_1                           10.0       2017-12-07             12   \n",
       "\n",
       "               outcome_year outcome_weekday  outcome_number  dob_year  \\\n",
       "animal_id_new                                                           \n",
       "A006100_1              2017        Thursday             1.0      2007   \n",
       "\n",
       "               dob_month age_upon_intake animal_id_intake animal_type  \\\n",
       "animal_id_new                                                           \n",
       "A006100_1              7        10 years          A006100         Dog   \n",
       "\n",
       "                              breed         color          datetime_intake  \\\n",
       "animal_id_new                                                                \n",
       "A006100_1      Spinone Italiano Mix  Yellow/White  2017-12-07T14:07:00.000   \n",
       "\n",
       "                             datetime2  \\\n",
       "animal_id_new                            \n",
       "A006100_1      2017-12-07T14:07:00.000   \n",
       "\n",
       "                                              found_location intake_condition  \\\n",
       "animal_id_new                                                                   \n",
       "A006100_1      Colony Creek And Hunters Trace in Austin (TX)           Normal   \n",
       "\n",
       "              intake_type name_intake sex_upon_intake  age_in_d_w_or_y  \\\n",
       "animal_id_new                                                            \n",
       "A006100_1           Stray       Scamp   Neutered Male               10   \n",
       "\n",
       "               age_upon_intake_calen_time  age_upon_intake_in_days  \\\n",
       "animal_id_new                                                        \n",
       "A006100_1                             365                     3650   \n",
       "\n",
       "               age_upon_intake_in_years     intake_datetime  intake_month  \\\n",
       "animal_id_new                                                               \n",
       "A006100_1                          10.0 2017-12-07 14:07:00            12   \n",
       "\n",
       "               intake_year intake_weekday  intake_number  \n",
       "animal_id_new                                             \n",
       "A006100_1             2017       Thursday            1.0  "
      ]
     },
     "execution_count": 12,
     "metadata": {},
     "output_type": "execute_result"
    }
   ],
   "source": [
    "df.head(1)"
   ]
  },
  {
   "cell_type": "code",
   "execution_count": 13,
   "metadata": {},
   "outputs": [],
   "source": [
    "# dropping unneccessary columns\n",
    "\n",
    "col_to_drop = ['age_upon_outcome_calen_time', 'animal_id_outcome', 'outcome_number', \n",
    "'dob_year', 'age_upon_outcome_calen_time', 'animal_id_outcome', 'outcome_number', 'dob_year', \n",
    "'animal_id_intake', 'found_location', 'age_in_d_w_or_y', 'age_upon_intake_calen_time']\n",
    "\n",
    "df.drop(col_to_drop, axis=1, inplace=True)"
   ]
  },
  {
   "cell_type": "code",
   "execution_count": 14,
   "metadata": {},
   "outputs": [],
   "source": [
    "# creating new columns of time in shelter, ages at intake and outcome and intake and outcome dates\n",
    "\n",
    "df['time_in_shelter'] = df['outcome_datetime'] - df['intake_datetime']\n",
    "df['age_at_intake'] = df['intake_datetime'] - df['date_of_birth']\n",
    "df['age_at_outcome'] = df['outcome_datetime'] - df['date_of_birth']\n",
    "df['intake_date'] = pd.to_datetime(df['intake_datetime']).dt.date\n",
    "df['outcome_date'] = pd.to_datetime(df['datetime_outcome']).dt.date"
   ]
  },
  {
   "cell_type": "code",
   "execution_count": 15,
   "metadata": {},
   "outputs": [],
   "source": [
    "# dropping unneccessary columns\n",
    "\n",
    "df.drop(['date_of_birth','datetime_intake', 'datetime2', 'age_upon_intake', \n",
    "         'dob_month', 'outcome_datetime'], axis=1, inplace=True)"
   ]
  },
  {
   "cell_type": "code",
   "execution_count": 16,
   "metadata": {
    "scrolled": true
   },
   "outputs": [
    {
     "data": {
      "text/html": [
       "<div>\n",
       "<style scoped>\n",
       "    .dataframe tbody tr th:only-of-type {\n",
       "        vertical-align: middle;\n",
       "    }\n",
       "\n",
       "    .dataframe tbody tr th {\n",
       "        vertical-align: top;\n",
       "    }\n",
       "\n",
       "    .dataframe thead th {\n",
       "        text-align: right;\n",
       "    }\n",
       "</style>\n",
       "<table border=\"1\" class=\"dataframe\">\n",
       "  <thead>\n",
       "    <tr style=\"text-align: right;\">\n",
       "      <th></th>\n",
       "      <th>age_upon_outcome</th>\n",
       "      <th>datetime_outcome</th>\n",
       "      <th>monthyear</th>\n",
       "      <th>name_outcome</th>\n",
       "      <th>outcome_subtype</th>\n",
       "      <th>outcome_type</th>\n",
       "      <th>sex_upon_outcome</th>\n",
       "      <th>age_upon_outcome_in_days</th>\n",
       "      <th>age_upon_outcome_in_years</th>\n",
       "      <th>outcome_month</th>\n",
       "      <th>outcome_year</th>\n",
       "      <th>outcome_weekday</th>\n",
       "      <th>animal_type</th>\n",
       "      <th>breed</th>\n",
       "      <th>color</th>\n",
       "      <th>intake_condition</th>\n",
       "      <th>intake_type</th>\n",
       "      <th>name_intake</th>\n",
       "      <th>sex_upon_intake</th>\n",
       "      <th>age_upon_intake_in_days</th>\n",
       "      <th>age_upon_intake_in_years</th>\n",
       "      <th>intake_datetime</th>\n",
       "      <th>intake_month</th>\n",
       "      <th>intake_year</th>\n",
       "      <th>intake_weekday</th>\n",
       "      <th>intake_number</th>\n",
       "      <th>time_in_shelter</th>\n",
       "      <th>age_at_intake</th>\n",
       "      <th>age_at_outcome</th>\n",
       "      <th>intake_date</th>\n",
       "      <th>outcome_date</th>\n",
       "    </tr>\n",
       "    <tr>\n",
       "      <th>animal_id_new</th>\n",
       "      <th></th>\n",
       "      <th></th>\n",
       "      <th></th>\n",
       "      <th></th>\n",
       "      <th></th>\n",
       "      <th></th>\n",
       "      <th></th>\n",
       "      <th></th>\n",
       "      <th></th>\n",
       "      <th></th>\n",
       "      <th></th>\n",
       "      <th></th>\n",
       "      <th></th>\n",
       "      <th></th>\n",
       "      <th></th>\n",
       "      <th></th>\n",
       "      <th></th>\n",
       "      <th></th>\n",
       "      <th></th>\n",
       "      <th></th>\n",
       "      <th></th>\n",
       "      <th></th>\n",
       "      <th></th>\n",
       "      <th></th>\n",
       "      <th></th>\n",
       "      <th></th>\n",
       "      <th></th>\n",
       "      <th></th>\n",
       "      <th></th>\n",
       "      <th></th>\n",
       "      <th></th>\n",
       "    </tr>\n",
       "  </thead>\n",
       "  <tbody>\n",
       "    <tr>\n",
       "      <th>A006100_1</th>\n",
       "      <td>10 years</td>\n",
       "      <td>2017-12-07T00:00:00.000</td>\n",
       "      <td>2017-12-07T00:00:00.000</td>\n",
       "      <td>Scamp</td>\n",
       "      <td>NaN</td>\n",
       "      <td>Return to Owner</td>\n",
       "      <td>Neutered Male</td>\n",
       "      <td>3650</td>\n",
       "      <td>10.0</td>\n",
       "      <td>12</td>\n",
       "      <td>2017</td>\n",
       "      <td>Thursday</td>\n",
       "      <td>Dog</td>\n",
       "      <td>Spinone Italiano Mix</td>\n",
       "      <td>Yellow/White</td>\n",
       "      <td>Normal</td>\n",
       "      <td>Stray</td>\n",
       "      <td>Scamp</td>\n",
       "      <td>Neutered Male</td>\n",
       "      <td>3650</td>\n",
       "      <td>10.0</td>\n",
       "      <td>2017-12-07 14:07:00</td>\n",
       "      <td>12</td>\n",
       "      <td>2017</td>\n",
       "      <td>Thursday</td>\n",
       "      <td>1.0</td>\n",
       "      <td>-1 days +09:53:00</td>\n",
       "      <td>3804 days 14:07:00</td>\n",
       "      <td>3804 days</td>\n",
       "      <td>2017-12-07</td>\n",
       "      <td>2017-12-07</td>\n",
       "    </tr>\n",
       "  </tbody>\n",
       "</table>\n",
       "</div>"
      ],
      "text/plain": [
       "              age_upon_outcome         datetime_outcome  \\\n",
       "animal_id_new                                             \n",
       "A006100_1             10 years  2017-12-07T00:00:00.000   \n",
       "\n",
       "                             monthyear name_outcome outcome_subtype  \\\n",
       "animal_id_new                                                         \n",
       "A006100_1      2017-12-07T00:00:00.000        Scamp             NaN   \n",
       "\n",
       "                  outcome_type sex_upon_outcome  age_upon_outcome_in_days  \\\n",
       "animal_id_new                                                               \n",
       "A006100_1      Return to Owner    Neutered Male                      3650   \n",
       "\n",
       "               age_upon_outcome_in_years  outcome_month  outcome_year  \\\n",
       "animal_id_new                                                           \n",
       "A006100_1                           10.0             12          2017   \n",
       "\n",
       "              outcome_weekday animal_type                 breed         color  \\\n",
       "animal_id_new                                                                   \n",
       "A006100_1            Thursday         Dog  Spinone Italiano Mix  Yellow/White   \n",
       "\n",
       "              intake_condition intake_type name_intake sex_upon_intake  \\\n",
       "animal_id_new                                                            \n",
       "A006100_1               Normal       Stray       Scamp   Neutered Male   \n",
       "\n",
       "               age_upon_intake_in_days  age_upon_intake_in_years  \\\n",
       "animal_id_new                                                      \n",
       "A006100_1                         3650                      10.0   \n",
       "\n",
       "                  intake_datetime  intake_month  intake_year intake_weekday  \\\n",
       "animal_id_new                                                                 \n",
       "A006100_1     2017-12-07 14:07:00            12         2017       Thursday   \n",
       "\n",
       "               intake_number   time_in_shelter      age_at_intake  \\\n",
       "animal_id_new                                                       \n",
       "A006100_1                1.0 -1 days +09:53:00 3804 days 14:07:00   \n",
       "\n",
       "              age_at_outcome intake_date outcome_date  \n",
       "animal_id_new                                          \n",
       "A006100_1          3804 days  2017-12-07   2017-12-07  "
      ]
     },
     "execution_count": 16,
     "metadata": {},
     "output_type": "execute_result"
    }
   ],
   "source": [
    "df.head(1)"
   ]
  },
  {
   "cell_type": "markdown",
   "metadata": {},
   "source": [
    "### Exploratory Data Analysis (EDA)"
   ]
  },
  {
   "cell_type": "code",
   "execution_count": 17,
   "metadata": {},
   "outputs": [
    {
     "data": {
      "text/plain": [
       "Adoption           26815\n",
       "Return to Owner    16628\n",
       "Transfer           12470\n",
       "Euthanasia          1605\n",
       "Rto-Adopt            332\n",
       "Died                 209\n",
       "Missing               23\n",
       "Disposal              14\n",
       "Name: outcome_type, dtype: int64"
      ]
     },
     "execution_count": 17,
     "metadata": {},
     "output_type": "execute_result"
    }
   ],
   "source": [
    "# dog outcomes\n",
    "df[df['animal_type']=='Dog']['outcome_type'].value_counts()"
   ]
  },
  {
   "cell_type": "code",
   "execution_count": 18,
   "metadata": {},
   "outputs": [
    {
     "data": {
      "text/plain": [
       "Transfer           16895\n",
       "Adoption           16521\n",
       "Return to Owner     1862\n",
       "Euthanasia          1685\n",
       "Died                 555\n",
       "Rto-Adopt             75\n",
       "Missing               34\n",
       "Disposal              22\n",
       "Name: outcome_type, dtype: int64"
      ]
     },
     "execution_count": 18,
     "metadata": {},
     "output_type": "execute_result"
    }
   ],
   "source": [
    "# cat outcomes\n",
    "df[df['animal_type']=='Cat']['outcome_type'].value_counts()"
   ]
  },
  {
   "cell_type": "code",
   "execution_count": 19,
   "metadata": {},
   "outputs": [
    {
     "data": {
      "text/plain": [
       "12.201732475952596"
      ]
     },
     "execution_count": 19,
     "metadata": {},
     "output_type": "execute_result"
    }
   ],
   "source": [
    "# cat kill rate\n",
    "\n",
    "(1685+555+34+22)/(16521+1685+555+34+22) * 100"
   ]
  },
  {
   "cell_type": "code",
   "execution_count": 20,
   "metadata": {},
   "outputs": [
    {
     "data": {
      "text/plain": [
       "6.457126909928138"
      ]
     },
     "execution_count": 20,
     "metadata": {},
     "output_type": "execute_result"
    }
   ],
   "source": [
    "# dog kill rate\n",
    "\n",
    "(1605+209+23+14)/(26815+1605+209+23+14) * 100"
   ]
  },
  {
   "cell_type": "code",
   "execution_count": 21,
   "metadata": {
    "scrolled": true
   },
   "outputs": [
    {
     "data": {
      "image/png": "[encoded data removed]",
      "text/plain": [
       "<Figure size 720x288 with 1 Axes>"
      ]
     },
     "metadata": {
      "needs_background": "light"
     },
     "output_type": "display_data"
    }
   ],
   "source": [
    "# plotting animal outcomes by type of outcome\n",
    "\n",
    "plt.figure(figsize=(10,4))\n",
    "ax = sns.countplot(df['outcome_type'])\n",
    "ax.set_xticklabels(ax.get_xticklabels(), rotation=40, ha=\"right\")\n",
    "plt.xlabel('Outcome', fontsize = 22)\n",
    "plt.ylabel('Count', fontsize = 22)\n",
    "plt.title('Animal Outcome By Type', fontsize = 22)\n",
    "plt.tight_layout()\n",
    "plt.show()"
   ]
  },
  {
   "cell_type": "code",
   "execution_count": 22,
   "metadata": {},
   "outputs": [],
   "source": [
    "# Going to focus on increasing live feline outcomes, so I need to drop \n",
    "# data for all other animal species\n",
    "\n",
    "# Get names of indexes for which animal type column value is not cat\n",
    "index_names = df[ df['animal_type']!='Cat'].index\n",
    " \n",
    "# Delete these row indexes from dataFrame\n",
    "df.drop(index_names , inplace=True)"
   ]
  },
  {
   "cell_type": "code",
   "execution_count": 23,
   "metadata": {},
   "outputs": [
    {
     "data": {
      "image/png": "[encoded data removed]",
      "text/plain": [
       "<Figure size 720x288 with 1 Axes>"
      ]
     },
     "metadata": {
      "needs_background": "light"
     },
     "output_type": "display_data"
    }
   ],
   "source": [
    "# plotting feline outcomes by type of outcome\n",
    "\n",
    "plt.figure(figsize=(10,4))\n",
    "ax = sns.countplot(df['outcome_type'])\n",
    "ax.set_xticklabels(ax.get_xticklabels(), rotation=40, ha=\"right\")\n",
    "plt.xlabel('Outcome', fontsize = 22)\n",
    "plt.ylabel('Count', fontsize = 22)\n",
    "plt.title('Feline Outcome By Type', fontsize = 22)\n",
    "plt.tight_layout()\n",
    "plt.show()"
   ]
  },
  {
   "cell_type": "code",
   "execution_count": 24,
   "metadata": {
    "scrolled": false
   },
   "outputs": [],
   "source": [
    "# making outcome_type binary - either the feline was released alive (1) or \n",
    "# not alive (0). All felines that were transfered or returned to owner\n",
    "# were dropped from dataframe\n",
    "\n",
    "df['outcome_type'] = df['outcome_type'].replace(['Adoption'], 1)\n",
    "df['outcome_type'] = df['outcome_type'].replace(['Euthanasia', 'Died', 'Disposal',\n",
    "                                                'Missing'], 0)\n",
    "df['outcome_type'] = df['outcome_type'].replace(['Transfer', 'Return to Owner', 'Rto-Adopt'], 3)\n",
    "\n",
    "df.rename(index=str, columns={'outcome_type': 'adopted'}, inplace=True)"
   ]
  },
  {
   "cell_type": "code",
   "execution_count": 25,
   "metadata": {},
   "outputs": [],
   "source": [
    "# Get names of indexes for which live_release value is not 0 or 1 and drop those rows\n",
    "index_names = df[df['adopted']==3].index\n",
    "\n",
    "# Delete these row indexes from dataFrame\n",
    "df.drop(index_names , inplace=True)"
   ]
  },
  {
   "cell_type": "code",
   "execution_count": 26,
   "metadata": {
    "scrolled": true
   },
   "outputs": [
    {
     "data": {
      "text/html": [
       "<div>\n",
       "<style scoped>\n",
       "    .dataframe tbody tr th:only-of-type {\n",
       "        vertical-align: middle;\n",
       "    }\n",
       "\n",
       "    .dataframe tbody tr th {\n",
       "        vertical-align: top;\n",
       "    }\n",
       "\n",
       "    .dataframe thead th {\n",
       "        text-align: right;\n",
       "    }\n",
       "</style>\n",
       "<table border=\"1\" class=\"dataframe\">\n",
       "  <thead>\n",
       "    <tr style=\"text-align: right;\">\n",
       "      <th></th>\n",
       "      <th>age_upon_outcome</th>\n",
       "      <th>datetime_outcome</th>\n",
       "      <th>monthyear</th>\n",
       "      <th>name_outcome</th>\n",
       "      <th>outcome_subtype</th>\n",
       "      <th>adopted</th>\n",
       "      <th>sex_upon_outcome</th>\n",
       "      <th>age_upon_outcome_in_days</th>\n",
       "      <th>age_upon_outcome_in_years</th>\n",
       "      <th>outcome_month</th>\n",
       "      <th>outcome_year</th>\n",
       "      <th>outcome_weekday</th>\n",
       "      <th>animal_type</th>\n",
       "      <th>breed</th>\n",
       "      <th>color</th>\n",
       "      <th>intake_condition</th>\n",
       "      <th>intake_type</th>\n",
       "      <th>name_intake</th>\n",
       "      <th>sex_upon_intake</th>\n",
       "      <th>age_upon_intake_in_days</th>\n",
       "      <th>age_upon_intake_in_years</th>\n",
       "      <th>intake_datetime</th>\n",
       "      <th>intake_month</th>\n",
       "      <th>intake_year</th>\n",
       "      <th>intake_weekday</th>\n",
       "      <th>intake_number</th>\n",
       "      <th>time_in_shelter</th>\n",
       "      <th>age_at_intake</th>\n",
       "      <th>age_at_outcome</th>\n",
       "      <th>intake_date</th>\n",
       "      <th>outcome_date</th>\n",
       "    </tr>\n",
       "    <tr>\n",
       "      <th>animal_id_new</th>\n",
       "      <th></th>\n",
       "      <th></th>\n",
       "      <th></th>\n",
       "      <th></th>\n",
       "      <th></th>\n",
       "      <th></th>\n",
       "      <th></th>\n",
       "      <th></th>\n",
       "      <th></th>\n",
       "      <th></th>\n",
       "      <th></th>\n",
       "      <th></th>\n",
       "      <th></th>\n",
       "      <th></th>\n",
       "      <th></th>\n",
       "      <th></th>\n",
       "      <th></th>\n",
       "      <th></th>\n",
       "      <th></th>\n",
       "      <th></th>\n",
       "      <th></th>\n",
       "      <th></th>\n",
       "      <th></th>\n",
       "      <th></th>\n",
       "      <th></th>\n",
       "      <th></th>\n",
       "      <th></th>\n",
       "      <th></th>\n",
       "      <th></th>\n",
       "      <th></th>\n",
       "      <th></th>\n",
       "    </tr>\n",
       "  </thead>\n",
       "  <tbody>\n",
       "    <tr>\n",
       "      <th>A214991_1</th>\n",
       "      <td>19 years</td>\n",
       "      <td>2013-12-14T13:28:00.000</td>\n",
       "      <td>2013-12-14T13:28:00.000</td>\n",
       "      <td>Prissy</td>\n",
       "      <td>Suffering</td>\n",
       "      <td>0.0</td>\n",
       "      <td>Spayed Female</td>\n",
       "      <td>6935</td>\n",
       "      <td>19.0</td>\n",
       "      <td>12</td>\n",
       "      <td>2013</td>\n",
       "      <td>Saturday</td>\n",
       "      <td>Cat</td>\n",
       "      <td>Domestic Shorthair</td>\n",
       "      <td>Black</td>\n",
       "      <td>Aged</td>\n",
       "      <td>Euthanasia Request</td>\n",
       "      <td>Prissy</td>\n",
       "      <td>Spayed Female</td>\n",
       "      <td>6935</td>\n",
       "      <td>19.0</td>\n",
       "      <td>2013-12-14 11:51:00</td>\n",
       "      <td>12</td>\n",
       "      <td>2013</td>\n",
       "      <td>Saturday</td>\n",
       "      <td>1.0</td>\n",
       "      <td>01:37:00</td>\n",
       "      <td>7228 days 11:51:00</td>\n",
       "      <td>7228 days 13:28:00</td>\n",
       "      <td>2013-12-14</td>\n",
       "      <td>2013-12-14</td>\n",
       "    </tr>\n",
       "  </tbody>\n",
       "</table>\n",
       "</div>"
      ],
      "text/plain": [
       "              age_upon_outcome         datetime_outcome  \\\n",
       "animal_id_new                                             \n",
       "A214991_1             19 years  2013-12-14T13:28:00.000   \n",
       "\n",
       "                             monthyear name_outcome outcome_subtype  adopted  \\\n",
       "animal_id_new                                                                  \n",
       "A214991_1      2013-12-14T13:28:00.000       Prissy       Suffering      0.0   \n",
       "\n",
       "              sex_upon_outcome  age_upon_outcome_in_days  \\\n",
       "animal_id_new                                              \n",
       "A214991_1        Spayed Female                      6935   \n",
       "\n",
       "               age_upon_outcome_in_years  outcome_month  outcome_year  \\\n",
       "animal_id_new                                                           \n",
       "A214991_1                           19.0             12          2013   \n",
       "\n",
       "              outcome_weekday animal_type               breed  color  \\\n",
       "animal_id_new                                                          \n",
       "A214991_1            Saturday         Cat  Domestic Shorthair  Black   \n",
       "\n",
       "              intake_condition         intake_type name_intake  \\\n",
       "animal_id_new                                                    \n",
       "A214991_1                 Aged  Euthanasia Request      Prissy   \n",
       "\n",
       "              sex_upon_intake  age_upon_intake_in_days  \\\n",
       "animal_id_new                                            \n",
       "A214991_1       Spayed Female                     6935   \n",
       "\n",
       "               age_upon_intake_in_years     intake_datetime  intake_month  \\\n",
       "animal_id_new                                                               \n",
       "A214991_1                          19.0 2013-12-14 11:51:00            12   \n",
       "\n",
       "               intake_year intake_weekday  intake_number time_in_shelter  \\\n",
       "animal_id_new                                                              \n",
       "A214991_1             2013       Saturday            1.0        01:37:00   \n",
       "\n",
       "                   age_at_intake     age_at_outcome intake_date outcome_date  \n",
       "animal_id_new                                                                 \n",
       "A214991_1     7228 days 11:51:00 7228 days 13:28:00  2013-12-14   2013-12-14  "
      ]
     },
     "execution_count": 26,
     "metadata": {},
     "output_type": "execute_result"
    }
   ],
   "source": [
    "df.head(1)"
   ]
  },
  {
   "cell_type": "code",
   "execution_count": 27,
   "metadata": {
    "scrolled": false
   },
   "outputs": [
    {
     "data": {
      "image/png": "[encoded data removed]",
      "text/plain": [
       "<Figure size 432x288 with 1 Axes>"
      ]
     },
     "metadata": {
      "needs_background": "light"
     },
     "output_type": "display_data"
    }
   ],
   "source": [
    "# plot feline euthanasia vs. adoptions\n",
    "\n",
    "sns.countplot(df['adopted'], palette=('mediumspringgreen', 'slateblue'))\n",
    "plt.title('Euthanasia vs. Adoptions', fontsize=25)\n",
    "plt.xticks(np.arange(2), labels=['Euthanized','Adopted'])\n",
    "plt.xlabel('Status', fontsize=15)\n",
    "plt.ylabel('Count', fontsize=15)\n",
    "plt.show()"
   ]
  },
  {
   "cell_type": "code",
   "execution_count": 28,
   "metadata": {},
   "outputs": [
    {
     "data": {
      "text/plain": [
       "1.0    16521\n",
       "0.0     2296\n",
       "Name: adopted, dtype: int64"
      ]
     },
     "execution_count": 28,
     "metadata": {},
     "output_type": "execute_result"
    }
   ],
   "source": [
    "df['adopted'].value_counts()"
   ]
  },
  {
   "cell_type": "code",
   "execution_count": null,
   "metadata": {
    "scrolled": false
   },
   "outputs": [],
   "source": [
    "sns.countplot(df['name_outcome'], palette=('mediumspringgreen', 'slateblue'))\n",
    "plt.title('Named', fontsize=30)\n",
    "plt.xticks(np.arange(2), labels=['Not Named','Named'])\n",
    "plt.xlabel('Named', fontsize=15)\n",
    "plt.ylabel('Count', fontsize=15)\n",
    "plt.show()"
   ]
  },
  {
   "cell_type": "code",
   "execution_count": null,
   "metadata": {},
   "outputs": [],
   "source": [
    "sns.countplot(df['out_neut_spay'], palette=('mediumspringgreen', 'slateblue'))\n",
    "plt.title('Spay Neuter Out', fontsize=30)\n",
    "plt.xticks(np.arange(2), labels=['Not S/N','S/N'])\n",
    "plt.xlabel('Sterilization', fontsize=15)\n",
    "plt.ylabel('Count', fontsize=15)\n",
    "plt.show()"
   ]
  },
  {
   "cell_type": "code",
   "execution_count": null,
   "metadata": {},
   "outputs": [],
   "source": [
    "sns.countplot(df['int_neut_spay'], palette=('mediumspringgreen', 'slateblue'))\n",
    "plt.title('Spay Neuter In', fontsize=30)\n",
    "plt.xticks(np.arange(2), labels=['Not S/N','S/N'])\n",
    "plt.xlabel('Sterilization', fontsize=15)\n",
    "plt.ylabel('Count', fontsize=15)\n",
    "plt.show()"
   ]
  },
  {
   "cell_type": "code",
   "execution_count": null,
   "metadata": {
    "scrolled": false
   },
   "outputs": [],
   "source": [
    "# sns.countplot(df['intake_condition'])\n",
    "# plt.title('Intake Condition')\n",
    "# plt.xticks(np.arange(2), labels=['Sick or Injured','Normal'])\n",
    "# plt.show()\n",
    "\n",
    "# plotting feline intake condition\n",
    "\n",
    "plt.figure(figsize=(10,10))\n",
    "ax = sns.countplot(df['intake_condition'])\n",
    "ax.set_xticklabels(ax.get_xticklabels(), rotation=40, ha=\"right\")\n",
    "plt.xlabel('Intake Condition', fontsize = 22)\n",
    "plt.ylabel('Count', fontsize = 22)\n",
    "plt.title('Intake Conditions', fontsize = 22)\n",
    "plt.tight_layout()\n",
    "plt.show()"
   ]
  },
  {
   "cell_type": "code",
   "execution_count": null,
   "metadata": {},
   "outputs": [],
   "source": [
    "len(df)"
   ]
  },
  {
   "cell_type": "code",
   "execution_count": null,
   "metadata": {},
   "outputs": [],
   "source": [
    "sns.countplot(df['adopted'])\n",
    "plt.title('Int')\n",
    "plt.xticks(np.arange(2), labels=['Sick or Injured','Normal'])\n",
    "plt.show()"
   ]
  },
  {
   "cell_type": "code",
   "execution_count": null,
   "metadata": {},
   "outputs": [],
   "source": [
    "df['adopted'].value_counts()"
   ]
  },
  {
   "cell_type": "code",
   "execution_count": 29,
   "metadata": {},
   "outputs": [],
   "source": [
    "#making name column binary: 0 for no name, 1 for named\n",
    "\n",
    "df['name_outcome'].fillna(0, inplace=True)\n",
    "df[\"name_outcome\"]=df[\"name_outcome\"].apply(lambda x: 1 if x!=0 else 0)\n",
    "\n",
    "df.drop('name_intake', axis=1, inplace=True)"
   ]
  },
  {
   "cell_type": "code",
   "execution_count": 30,
   "metadata": {},
   "outputs": [],
   "source": [
    "df=df.drop('outcome_subtype', axis=1)"
   ]
  },
  {
   "cell_type": "markdown",
   "metadata": {},
   "source": [
    "## Feature Engineering"
   ]
  },
  {
   "cell_type": "code",
   "execution_count": 32,
   "metadata": {},
   "outputs": [
    {
     "data": {
      "text/plain": [
       "'\\nHaving domain knowledge from animal shelter volunteer experience, \\nmany people prefer to adopt younger cats. Knowing this, I broke\\nthe age upon intake and age upon outcome into 4 bins:\\n\\n- less than 4 months old (young kitten)\\n- 4 months through 1 year (older kitten)\\n- 1 year through 9 years (adult)\\n- over 9 years (senior)\\n\\n'"
      ]
     },
     "execution_count": 32,
     "metadata": {},
     "output_type": "execute_result"
    }
   ],
   "source": [
    "\"\"\"\n",
    "Having domain knowledge from animal shelter volunteer experience, \n",
    "many people prefer to adopt younger cats. Knowing this, I broke\n",
    "the age upon intake and age upon outcome into 4 bins:\n",
    "\n",
    "- less than 4 months old (young kitten)\n",
    "- 4 months through 1 year (older kitten)\n",
    "- 1 year through 9 years (adult)\n",
    "- over 9 years (senior)\n",
    "\n",
    "\"\"\""
   ]
  },
  {
   "cell_type": "code",
   "execution_count": 33,
   "metadata": {},
   "outputs": [],
   "source": [
    "# Bin Ages\n",
    "bins = [0, 120, 365, 3285, 8030]\n",
    "in_life_stages = pd.cut(df['age_upon_intake_in_days'], bins)\n",
    "# Create dummy variables for 'age_range'\n",
    "in_life_stage_dummies = pd.get_dummies(in_life_stages, prefix=\"int_age_\")\n",
    "#Add the dummy variables to the main dataframe\n",
    "df = pd.concat([df, in_life_stage_dummies], axis=1)"
   ]
  },
  {
   "cell_type": "code",
   "execution_count": 34,
   "metadata": {},
   "outputs": [],
   "source": [
    "# Bin Ages\n",
    "bins = [0, 120, 365, 3285, 8030]\n",
    "out_life_stage = pd.cut(df['age_upon_outcome_in_days'], bins)\n",
    "# Create dummy variables for 'age_range'\n",
    "out_life_stage_dummies = pd.get_dummies(out_life_stage, prefix=\"out_age_\")\n",
    "#Add the dummy variables to the main dataframe\n",
    "df = pd.concat([df, out_life_stage_dummies], axis=1)"
   ]
  },
  {
   "cell_type": "code",
   "execution_count": null,
   "metadata": {},
   "outputs": [],
   "source": [
    "\"\"\"\n",
    "Coverting intake and outcome dates into season:\n",
    "\n",
    "- winter: Dec - Feb\n",
    "- spring: Mar - May\n",
    "- summer: June - Aug\n",
    "- fall: Sept - Nov\n",
    "\n",
    "\"\"\""
   ]
  },
  {
   "cell_type": "code",
   "execution_count": 35,
   "metadata": {},
   "outputs": [],
   "source": [
    "# Build a season_column\n",
    "seasons = ['winter', 'winter', 'spring', 'spring', 'spring', 'summer', 'summer', 'summer', 'fall', 'fall', 'fall', 'winter']\n",
    "\n",
    "df['intake_season'] = df['intake_date'].map(lambda x: seasons[x.month-1])\n",
    "\n",
    "int_season_dummies = pd.get_dummies(df['intake_season'], prefix=\"int_season_\")\n",
    "int_season_dummies.head()\n",
    "\n",
    "df = pd.concat([df, int_season_dummies],axis=1)\n",
    "\n",
    "to_drop = ['intake_date', 'intake_season', 'age_upon_intake_in_days',\n",
    "          'age_upon_intake_in_years', 'age_upon_intake_in_years',\n",
    "          'age_at_intake', 'intake_month']\n",
    "df.drop(to_drop, axis=1, inplace=True)"
   ]
  },
  {
   "cell_type": "code",
   "execution_count": 36,
   "metadata": {},
   "outputs": [],
   "source": [
    "# Build a season_column and dummy\n",
    "seasons = ['winter', 'winter', 'spring', 'spring', 'spring', 'summer', 'summer', 'summer', 'fall', 'fall', 'fall', 'winter']\n",
    "\n",
    "df['outcome_season'] = df['outcome_date'].map(lambda x: seasons[x.month-1])\n",
    "\n",
    "out_season_dummies = pd.get_dummies(df['outcome_season'], prefix=\"out_season_\", drop_first=True)\n",
    "out_season_dummies.head()\n",
    "\n",
    "df = pd.concat([df, out_season_dummies],axis=1)\n",
    "\n",
    "to_drop = ['outcome_date', 'outcome_season', 'age_upon_outcome_in_days',\n",
    "          'age_upon_outcome_in_years', 'age_upon_outcome_in_years',\n",
    "          'age_at_outcome', 'age_upon_outcome', 'outcome_month']\n",
    "df.drop(to_drop,axis=1, inplace=True)"
   ]
  },
  {
   "cell_type": "code",
   "execution_count": null,
   "metadata": {},
   "outputs": [],
   "source": [
    "\"\"\"\n",
    "Converting the intake and outcome day of the week into \n",
    "a binary:\n",
    "\n",
    "- weekday: 1\n",
    "- weekend:0\n",
    "\n",
    "\"\"\""
   ]
  },
  {
   "cell_type": "code",
   "execution_count": 37,
   "metadata": {},
   "outputs": [],
   "source": [
    "#making outcome and intake days binary: 1 for weekday and 0 for weekend\n",
    "\n",
    "df['outcome_weekday'] = df['outcome_weekday'].replace(['Monday', 'Tuesday',\n",
    "                                                    'Wednesday', 'Thursday', 'Friday'], 1)\n",
    "df['outcome_weekday'] = df['outcome_weekday'].replace(['Saturday', 'Sunday'], 0)\n",
    "\n",
    "df['intake_weekday'] = df['intake_weekday'].replace(['Monday', 'Tuesday',\n",
    "                                                    'Wednesday', 'Thursday', 'Friday'], 1)\n",
    "df['intake_weekday'] = df['intake_weekday'].replace(['Saturday', 'Sunday'], 0)"
   ]
  },
  {
   "cell_type": "code",
   "execution_count": null,
   "metadata": {},
   "outputs": [],
   "source": [
    "\"\"\"\n",
    "Drop all rows where animal type is not a cat.\n",
    "\"\"\""
   ]
  },
  {
   "cell_type": "code",
   "execution_count": 38,
   "metadata": {},
   "outputs": [],
   "source": [
    "# Get names of indexes for which column animal_type has value Bird\n",
    "indexNames = df[df['animal_type'] == 'Bird'].index\n",
    " \n",
    "# Delete these row indexes from dataFrame\n",
    "df.drop(indexNames , inplace=True)\n",
    "\n",
    "# Get names of indexes for which column animal_type has value Other\n",
    "indexNames = df[df['animal_type'] == 'Other'].index\n",
    " \n",
    "# Delete these row indexes from dataFrame\n",
    "df.drop(indexNames , inplace=True)\n",
    "\n",
    "# Get names of indexes for which column animal_type has value Livestock\n",
    "indexNames = df[df['animal_type'] == 'Livestock'].index\n",
    " \n",
    "# Delete these row indexes from dataFrame\n",
    "df.drop(indexNames , inplace=True)"
   ]
  },
  {
   "cell_type": "code",
   "execution_count": 39,
   "metadata": {},
   "outputs": [],
   "source": [
    "#dropping unneccessary columns\n",
    "\n",
    "to_drop = ['intake_datetime', 'intake_year', 'datetime_outcome', 'monthyear', 'outcome_year']\n",
    "df.drop(to_drop, axis=1, inplace=True)"
   ]
  },
  {
   "cell_type": "code",
   "execution_count": null,
   "metadata": {},
   "outputs": [],
   "source": [
    "\"\"\"\n",
    "Splitting the sex upon intake and sex upon outcome columns \n",
    "into two separate columns of spayed/neutered and male/female\n",
    "\"\"\""
   ]
  },
  {
   "cell_type": "code",
   "execution_count": 40,
   "metadata": {
    "scrolled": true
   },
   "outputs": [],
   "source": [
    "#split intake neuter/spay/sex column:\n",
    "\n",
    "# new data frame with split value columns \n",
    "new = df['sex_upon_intake'].str.split(\" \", n = 1, expand = True) \n",
    "  \n",
    "# making separate spay/neuter column from new data frame \n",
    "df['int_neut_spay']= new[0] \n",
    "  \n",
    "    \n",
    "# Dropping old columns \n",
    "df.drop(columns =['sex_upon_intake'], inplace = True) \n",
    "  \n",
    "#split outcome neuter/spay/sex column:\n",
    "    \n",
    "# new data frame with split value columns \n",
    "new = df['sex_upon_outcome'].str.split(\" \", n = 1, expand = True) \n",
    "  \n",
    "# making separate spay/neuter column from new data frame \n",
    "df['out_neut_spay']= new[0] \n",
    "\n",
    "# making separate sex column from new data frame \n",
    "df['female']= new[1] \n",
    "  \n",
    "# Dropping old columns \n",
    "df.drop(columns =['sex_upon_outcome'], inplace = True) "
   ]
  },
  {
   "cell_type": "code",
   "execution_count": null,
   "metadata": {},
   "outputs": [],
   "source": [
    "\"\"\"\n",
    "Making sex columns and sterilization columns binary \n",
    "\"\"\""
   ]
  },
  {
   "cell_type": "code",
   "execution_count": 41,
   "metadata": {},
   "outputs": [],
   "source": [
    "# make sex column binary\n",
    "\n",
    "df['female'] = [1 if x== 'Female' else 0 for x in df['female']]"
   ]
  },
  {
   "cell_type": "code",
   "execution_count": 42,
   "metadata": {},
   "outputs": [],
   "source": [
    "#1 for cat/dog is spayed or neutured\n",
    "#0 for intact and other\n",
    "\n",
    "df['int_neut_spay'] = df['int_neut_spay'].replace(['Intact', 'Spayed', 'Neutered', 'Unknown'], [0, 1, 1, 0])\n",
    "df['out_neut_spay'] = df['out_neut_spay'].replace(['Intact', 'Spayed', 'Neutered', 'Unknown'], [0, 1, 1, 0])"
   ]
  },
  {
   "cell_type": "code",
   "execution_count": null,
   "metadata": {},
   "outputs": [],
   "source": [
    "\"\"\"\n",
    "Dummy animal type column\n",
    "\"\"\""
   ]
  },
  {
   "cell_type": "code",
   "execution_count": 43,
   "metadata": {},
   "outputs": [],
   "source": [
    "#dummy animal_type category\n",
    "\n",
    "animal_type_dummies = pd.get_dummies(df['animal_type'], prefix=\"animal_type_\")\n",
    "animal_type_dummies.head()\n",
    "\n",
    "df = pd.concat([df, animal_type_dummies],axis=1)\n",
    "df.drop('animal_type',axis=1, inplace=True)"
   ]
  },
  {
   "cell_type": "code",
   "execution_count": 44,
   "metadata": {},
   "outputs": [],
   "source": [
    "# make intake condition binary: 1 for normal\n",
    "\n",
    "df['intake_condition'] = [1 if x== 'Normal' else 0 for x in df['intake_condition']]"
   ]
  },
  {
   "cell_type": "code",
   "execution_count": 45,
   "metadata": {},
   "outputs": [],
   "source": [
    "#dummy intake_type\n",
    "\n",
    "intake_type_dummies = pd.get_dummies(df['intake_type'], prefix=\"int_type_\")\n",
    "intake_type_dummies.head()\n",
    "\n",
    "df = pd.concat([df, intake_type_dummies],axis=1)\n",
    "df.drop('intake_type',axis=1, inplace=True)"
   ]
  },
  {
   "cell_type": "code",
   "execution_count": 46,
   "metadata": {},
   "outputs": [],
   "source": [
    "#change time in shelter type\n",
    "\n",
    "df['time_in_shelter'] = df['time_in_shelter'].astype('timedelta64[D]')"
   ]
  },
  {
   "cell_type": "code",
   "execution_count": 47,
   "metadata": {},
   "outputs": [],
   "source": [
    "# drop rows with time in shelter that is less than 0\n",
    "\n",
    "# Get names of indexes for which column Age has value 30\n",
    "indexNames = df[ df['time_in_shelter'] <0].index\n",
    " \n",
    "# Delete these row indexes from dataFrame\n",
    "df.drop(indexNames , inplace=True)"
   ]
  },
  {
   "cell_type": "code",
   "execution_count": null,
   "metadata": {},
   "outputs": [],
   "source": [
    "\"\"\"\n",
    "Bin time in shelter to:\n",
    "\n",
    "- less than 30 days\n",
    "- less than 1 year\n",
    "- over 1 year\n",
    "\n",
    "\"\"\""
   ]
  },
  {
   "cell_type": "code",
   "execution_count": 48,
   "metadata": {},
   "outputs": [],
   "source": [
    "# Bin time in shelter\n",
    "\n",
    "bins = [0, 30, 365, 1469]\n",
    "days_in_shelter = pd.cut(df['time_in_shelter'], bins)\n",
    "# Create dummy variables for 'time in shelter'\n",
    "days_in_shelter_dummies = pd.get_dummies(days_in_shelter, prefix=\"days_in_\")\n",
    "#Add the dummy variables to the main dataframe\n",
    "df = pd.concat([df, days_in_shelter_dummies], axis=1)\n",
    "\n",
    "df.drop('time_in_shelter', axis=1, inplace=True)"
   ]
  },
  {
   "cell_type": "code",
   "execution_count": null,
   "metadata": {},
   "outputs": [],
   "source": [
    "\"\"\"\n",
    "The breed column includes domestic breeds, pure\n",
    "breds, and mixes and that all needs to be \n",
    "separated out into their own columns\n",
    "\n",
    "Handling the breed column:`\n",
    "\n",
    "- making breed column lowercase\n",
    "- creating binary mix column for breeds that are mixes\n",
    "- separating breeds out as domenstic or pure bred per \n",
    "  the Cat Fancier's Association  \n",
    "\n",
    "\"\"\""
   ]
  },
  {
   "cell_type": "code",
   "execution_count": 55,
   "metadata": {},
   "outputs": [],
   "source": [
    "df['breed'] = df['breed'].str.lower()"
   ]
  },
  {
   "cell_type": "code",
   "execution_count": 56,
   "metadata": {},
   "outputs": [],
   "source": [
    "# creates a binary mix column where if the breed column contains a mix \n",
    "# breed, mix = 1\n",
    "df['mix'] = np.where(df['breed'].str.contains(\"mix\"), 1, 0)"
   ]
  },
  {
   "cell_type": "code",
   "execution_count": 57,
   "metadata": {},
   "outputs": [],
   "source": [
    "# Creating a temporary breed_edit column.\n",
    "# Dropping \"mix\", replacing \"medium hair\" with \"mediumhair\" for consistency, and lower-casing.\n",
    "\n",
    "df['breed_edit'] = df['breed'].str.replace('mix', '').str.replace('medium hair', 'mediumhair').str.strip()"
   ]
  },
  {
   "cell_type": "code",
   "execution_count": 58,
   "metadata": {},
   "outputs": [
    {
     "data": {
      "text/plain": [
       "'abyssinian|american bobtail|american curl|american shorthair|american wirehair|balinese|bengal|birman|bombay|british shorthair|burmese|burmilla|chartreux|colorpoint shorthair|cornish rex|devon rex|egyptian mau|european burmese|exotic|havana brown|japanese bobtail|korat|laperm|maine coon|manx|norwegian forest cat|ocicat|oriental|persian|ragamuffin|ragdoll|russian blue|scottish fold|selkirk rex|siamese|siberian|singapura|somali|tonkinese|turkish angora|turkish van'"
      ]
     },
     "execution_count": 58,
     "metadata": {},
     "output_type": "execute_result"
    }
   ],
   "source": [
    "#creating a list of CFA breeds\n",
    "cfa_breeds = ['Abyssinian', 'American Bobtail', 'American Curl', 'American Shorthair', 'American Wirehair', \n",
    "              'Balinese', 'Bengal', 'Birman', 'Bombay', 'British Shorthair', 'Burmese', 'Burmilla', \n",
    "              'Chartreux', 'Colorpoint Shorthair', 'Cornish Rex', 'Devon Rex', 'Egyptian Mau', 'European Burmese', \n",
    "              'Exotic', 'Havana Brown', 'Japanese Bobtail', 'Korat', 'LaPerm', 'Maine Coon', 'Manx', \n",
    "              'Norwegian Forest Cat', 'Ocicat', 'Oriental', 'Persian', 'Ragamuffin', 'Ragdoll', 'Russian Blue', \n",
    "              'Scottish Fold', 'Selkirk Rex', 'Siamese', 'Siberian', 'Singapura', 'Somali', 'Tonkinese', \n",
    "              'Turkish Angora', 'Turkish Van']\n",
    "\n",
    "cfa_breeds = [i.lower() for i in cfa_breeds]\n",
    "cfa_breeds = '|'.join(cfa_breeds)\n",
    "\n",
    "cfa_breeds"
   ]
  },
  {
   "cell_type": "code",
   "execution_count": 59,
   "metadata": {},
   "outputs": [],
   "source": [
    "# Splitting records with two breeds into two columns for each breed.\n",
    "df = pd.concat([df, df['breed_edit'].str.split('/', expand=True).rename(columns={0:'breed1', 1:'breed2'})], \n",
    "                    axis=1)\n",
    "\n",
    "# If the columns is in the cfa list, mark as 1.\n",
    "df['cfa_breed'] = np.where((df['breed1'].str.contains(cfa_breeds)) | \n",
    "                                (df['breed2'].str.contains(cfa_breeds)), \n",
    "                                1, 0)\n",
    "\n",
    "# If neither breed1 or breed2 columns contain a cfa recognized breed, mark as domestic.\n",
    "df['domestic_breed'] = np.where((df['breed1'].str.contains(cfa_breeds) == False) | \n",
    "                                     (df['breed2'].str.contains(cfa_breeds) == False), \n",
    "                                     1, 0)"
   ]
  },
  {
   "cell_type": "code",
   "execution_count": 60,
   "metadata": {},
   "outputs": [],
   "source": [
    "df.drop(['breed_edit', 'breed1', 'breed2', 'breed'], axis=1, inplace=True)"
   ]
  },
  {
   "cell_type": "code",
   "execution_count": null,
   "metadata": {},
   "outputs": [],
   "source": [
    "#df.drop('mix', axis=1, inplace=True)"
   ]
  },
  {
   "cell_type": "code",
   "execution_count": 61,
   "metadata": {
    "scrolled": false
   },
   "outputs": [
    {
     "data": {
      "text/plain": [
       "1    17692\n",
       "0     1079\n",
       "Name: domestic_breed, dtype: int64"
      ]
     },
     "execution_count": 61,
     "metadata": {},
     "output_type": "execute_result"
    }
   ],
   "source": [
    "df['domestic_breed'].value_counts()"
   ]
  },
  {
   "cell_type": "code",
   "execution_count": null,
   "metadata": {},
   "outputs": [],
   "source": [
    "\"\"\"\n",
    "The color column contains both coat colors and \n",
    "coat patterns. These need to be separated out \n",
    "into their own columns.\n",
    "\"\"\""
   ]
  },
  {
   "cell_type": "code",
   "execution_count": 63,
   "metadata": {},
   "outputs": [],
   "source": [
    "# Coat patterns list for cats\n",
    "coat_patterns = ['tabby', 'tortie', 'tortoiseshell', 'calico', 'smoke', 'torbie',\n",
    "                 'colorpoint', 'point', 'brindle', 'agouti', 'bicolor', 'tricolor']"
   ]
  },
  {
   "cell_type": "code",
   "execution_count": 64,
   "metadata": {},
   "outputs": [
    {
     "data": {
      "text/plain": [
       "'(tabby|tortie|tortoiseshell|calico|smoke|torbie|colorpoint|point|brindle|agouti|bicolor|tricolor)'"
      ]
     },
     "execution_count": 64,
     "metadata": {},
     "output_type": "execute_result"
    }
   ],
   "source": [
    "# Create the regex string by joining the coat patterns with | and encapsulating them in parantheses\n",
    "coat_reg = '(' + '|'.join(coat_patterns) + ')'\n",
    "\n",
    "coat_reg"
   ]
  },
  {
   "cell_type": "code",
   "execution_count": 66,
   "metadata": {},
   "outputs": [],
   "source": [
    "# Extracting coat pattern from color and removing it from color column\n",
    "df['color'] = df['color'].str.lower()\n",
    "\n",
    "df['coat_pattern'] = df['color'].str.extract(coat_reg, expand=False)\n",
    "\n",
    "df['color_edit'] = df['color'].str.replace(coat_reg, '').str.strip()"
   ]
  },
  {
   "cell_type": "code",
   "execution_count": 67,
   "metadata": {},
   "outputs": [],
   "source": [
    "#Splitting color column into two color columns\n",
    "df = pd.concat([df, df['color_edit'].str.split('/', expand=True).rename(columns={0:'color1', 1:'color2'})], axis=1)\n",
    "\n",
    "#Replacing blanks in color1 with 'breed specific'.\n",
    "df['color1'] = np.where(df['color1'] == '', 'breed specific', df['color1'])\n",
    "\n",
    "# Creating a column that collects the extracted coat colors and patterns.  If the color is breed specific, list \n",
    "# the coat pattern.  Otherwise, list the color.\n",
    "df['coat'] = np.where(df['color1'] == 'breed specific', df['coat_pattern'], df['color1'])"
   ]
  },
  {
   "cell_type": "code",
   "execution_count": 68,
   "metadata": {},
   "outputs": [],
   "source": [
    "df.drop(['coat_pattern', 'color_edit', 'color1', 'color2', 'color'], axis=1, inplace=True)"
   ]
  },
  {
   "cell_type": "code",
   "execution_count": 69,
   "metadata": {},
   "outputs": [],
   "source": [
    "#dummy animal coat category\n",
    "\n",
    "coat_dummies = pd.get_dummies(df['coat'], prefix=\"coat_\")\n",
    "coat_dummies.head()\n",
    "\n",
    "df = pd.concat([df, coat_dummies],axis=1)\n",
    "df.drop('coat', axis=1, inplace=True)"
   ]
  },
  {
   "cell_type": "code",
   "execution_count": 70,
   "metadata": {},
   "outputs": [],
   "source": [
    "#drop the 4 nans that were still in table\n",
    "\n",
    "df = df.dropna(how='any')           # assign back\n",
    "df.dropna(how='any', inplace=True)  # set inplace parameter"
   ]
  },
  {
   "cell_type": "code",
   "execution_count": 71,
   "metadata": {},
   "outputs": [],
   "source": [
    "df.drop(columns=['animal_type__Cat'],inplace=True)"
   ]
  },
  {
   "cell_type": "code",
   "execution_count": 72,
   "metadata": {},
   "outputs": [],
   "source": [
    "# make intake number column binary\n",
    "\n",
    "df['intake_number'] = [0 if x== 1.0 else 1 for x in df['intake_number']]"
   ]
  },
  {
   "cell_type": "code",
   "execution_count": 75,
   "metadata": {
    "collapsed": true
   },
   "outputs": [
    {
     "name": "stdout",
     "output_type": "stream",
     "text": [
      "<class 'pandas.core.frame.DataFrame'>\n",
      "Index: 18770 entries, A214991_1 to A798165_1\n",
      "Data columns (total 78 columns):\n",
      "name_outcome                    18770 non-null int64\n",
      "adopted                         18770 non-null int64\n",
      "outcome_weekday                 18770 non-null int64\n",
      "intake_condition                18770 non-null int64\n",
      "intake_weekday                  18770 non-null int64\n",
      "intake_number                   18770 non-null int64\n",
      "int_age__(0, 120]               18770 non-null uint8\n",
      "int_age__(120, 365]             18770 non-null uint8\n",
      "int_age__(365, 3285]            18770 non-null uint8\n",
      "int_age__(3285, 8030]           18770 non-null uint8\n",
      "out_age__(0, 120]               18770 non-null uint8\n",
      "out_age__(120, 365]             18770 non-null uint8\n",
      "out_age__(365, 3285]            18770 non-null uint8\n",
      "out_age__(3285, 8030]           18770 non-null uint8\n",
      "int_season__fall                18770 non-null uint8\n",
      "int_season__spring              18770 non-null uint8\n",
      "int_season__summer              18770 non-null uint8\n",
      "int_season__winter              18770 non-null uint8\n",
      "out_season__spring              18770 non-null uint8\n",
      "out_season__summer              18770 non-null uint8\n",
      "out_season__winter              18770 non-null uint8\n",
      "int_neut_spay                   18770 non-null int64\n",
      "out_neut_spay                   18770 non-null int64\n",
      "female                          18770 non-null int64\n",
      "int_type__Euthanasia Request    18770 non-null uint8\n",
      "int_type__Owner Surrender       18770 non-null uint8\n",
      "int_type__Public Assist         18770 non-null uint8\n",
      "int_type__Stray                 18770 non-null uint8\n",
      "days_in__(0, 30]                18770 non-null uint8\n",
      "days_in__(30, 365]              18770 non-null uint8\n",
      "days_in__(365, 1469]            18770 non-null uint8\n",
      "mix                             18770 non-null int64\n",
      "cfa_breed                       18770 non-null int64\n",
      "domestic_breed                  18770 non-null int64\n",
      "coat__agouti                    18770 non-null uint8\n",
      "coat__apricot                   18770 non-null uint8\n",
      "coat__black                     18770 non-null uint8\n",
      "coat__black                     18770 non-null uint8\n",
      "coat__black tiger               18770 non-null uint8\n",
      "coat__blue                      18770 non-null uint8\n",
      "coat__blue                      18770 non-null uint8\n",
      "coat__blue cream                18770 non-null uint8\n",
      "coat__brown                     18770 non-null uint8\n",
      "coat__brown                     18770 non-null uint8\n",
      "coat__brown merle               18770 non-null uint8\n",
      "coat__brown tiger               18770 non-null uint8\n",
      "coat__buff                      18770 non-null uint8\n",
      "coat__calico                    18770 non-null uint8\n",
      "coat__chocolate                 18770 non-null uint8\n",
      "coat__chocolate                 18770 non-null uint8\n",
      "coat__cream                     18770 non-null uint8\n",
      "coat__cream                     18770 non-null uint8\n",
      "coat__fawn                      18770 non-null uint8\n",
      "coat__flame                     18770 non-null uint8\n",
      "coat__flame                     18770 non-null uint8\n",
      "coat__gray                      18770 non-null uint8\n",
      "coat__gray                      18770 non-null uint8\n",
      "coat__lilac                     18770 non-null uint8\n",
      "coat__lilac                     18770 non-null uint8\n",
      "coat__lynx                      18770 non-null uint8\n",
      "coat__lynx                      18770 non-null uint8\n",
      "coat__orange                    18770 non-null uint8\n",
      "coat__orange                    18770 non-null uint8\n",
      "coat__orange tiger              18770 non-null uint8\n",
      "coat__red                       18770 non-null uint8\n",
      "coat__sable                     18770 non-null uint8\n",
      "coat__seal                      18770 non-null uint8\n",
      "coat__seal                      18770 non-null uint8\n",
      "coat__silver                    18770 non-null uint8\n",
      "coat__silver                    18770 non-null uint8\n",
      "coat__silver lynx               18770 non-null uint8\n",
      "coat__silver lynx               18770 non-null uint8\n",
      "coat__tan                       18770 non-null uint8\n",
      "coat__torbie                    18770 non-null uint8\n",
      "coat__tortie                    18770 non-null uint8\n",
      "coat__tricolor                  18770 non-null uint8\n",
      "coat__white                     18770 non-null uint8\n",
      "coat__yellow                    18770 non-null uint8\n",
      "dtypes: int64(12), uint8(66)\n",
      "memory usage: 3.0+ MB\n"
     ]
    }
   ],
   "source": [
    "df.info()"
   ]
  },
  {
   "cell_type": "code",
   "execution_count": 76,
   "metadata": {},
   "outputs": [],
   "source": [
    "df['adopted'] = df['adopted'].astype(int)"
   ]
  },
  {
   "cell_type": "code",
   "execution_count": null,
   "metadata": {},
   "outputs": [],
   "source": [
    "# #split color column:\n",
    "\n",
    "# # new data frame with split value columns \n",
    "# new = df['color'].str.split(\"/\", n = 1, expand = True) \n",
    "  \n",
    "# # making separate spay/neuter column from new data frame \n",
    "# df['color_1']= new[0] \n",
    "# #df['color_2']= new[1] \n",
    "# #df['color_3']= new[1] \n",
    "    \n",
    "# # Dropping old columns \n",
    "# df.drop(columns =['color'], inplace = True) "
   ]
  },
  {
   "cell_type": "code",
   "execution_count": null,
   "metadata": {},
   "outputs": [],
   "source": [
    "# # split color column\n",
    "\n",
    "# new = df['color_1'].str.split(\" \", n = 1, expand = True) \n",
    "  \n",
    "# # making separate spay/neuter column from new data frame \n",
    "# df['color']= new[0] \n",
    "\n",
    "# # Dropping old columns\n",
    "# df.drop(columns =['color_1'], inplace = True) "
   ]
  },
  {
   "cell_type": "code",
   "execution_count": null,
   "metadata": {},
   "outputs": [],
   "source": [
    "# #replacing colors of animals with low observations to others\n",
    "\n",
    "# df['color'] = df['color'].replace(['Yellow', 'Fawn', 'Buff', 'Lynx', \n",
    "#                                    'Seal', 'Silver', 'Flame', 'Gold', \n",
    "#                                    'Lilac', 'Apricot', 'Liver', 'Agouti', \n",
    "#                                    'Pink', 'Ruddy', 'Tan', 'Tricolor', 'Red', 'Sable'], 'Other')\n",
    "# df['color'] = df['color'].replace(['Chocolate'], 'Brown')\n"
   ]
  },
  {
   "cell_type": "code",
   "execution_count": null,
   "metadata": {},
   "outputs": [],
   "source": [
    "# #split breed column:\n",
    "\n",
    "# # new data frame with split value columns \n",
    "# new = df['breed'].str.split(\"/\", n = 2, expand = True) \n",
    "  \n",
    "# # making separate spay/neuter column from new data frame \n",
    "# df['breed_1']= new[0] \n",
    "# #df['color_2']= new[1] \n",
    "# #df['color_3']= new[1] \n",
    "    \n",
    "# # Dropping old columns \n",
    "# df.drop(columns =['breed'], inplace = True) "
   ]
  },
  {
   "cell_type": "code",
   "execution_count": null,
   "metadata": {},
   "outputs": [],
   "source": [
    "# #changing the same bt multiply names breeds into single categories \n",
    "\n",
    "# df['breed_1'] = df['breed_1'].replace(['Domestic Shorthair Mix', 'American Shorthair', 'American Shorthair Mix', \n",
    "#                                        'Domestic Shorthair'], 'Domestic_Short_Hair')\n",
    "# df['breed_1'] = df['breed_1'].replace(['Domestic Medium Hair Mix', 'Domestic Medium Hair'], 'Domestic_Medium_Hair_Mix')\n",
    "# df['breed_1'] = df['breed_1'].replace(['Domestic Longhair Mix', 'Domestic Longhair'], 'Domestic_Longhair')\n",
    "# df['breed_1'] = df['breed_1'].replace(['Domestic Longhair Mix', 'Domestic Longhair'], 'Domestic_Longhair')\n",
    "# df['breed_1'] = df['breed_1'].replace(['Siamese Mix'], 'Siamese')"
   ]
  },
  {
   "cell_type": "code",
   "execution_count": null,
   "metadata": {},
   "outputs": [],
   "source": [
    "# #split color column:\n",
    "\n",
    "# # new data frame with split value columns \n",
    "# new = df['breed_1'].str.split(\" \", n = 1, expand = True) \n",
    "  \n",
    "# # making separate spay/neuter column from new data frame \n",
    "# df['breed']= new[0] \n",
    "# #df['color_2']= new[1] \n",
    "# #df['color_3']= new[1] \n",
    "    \n",
    "# # Dropping old columns \n",
    "# df.drop(columns =['breed_1'], inplace = True) "
   ]
  },
  {
   "cell_type": "code",
   "execution_count": null,
   "metadata": {},
   "outputs": [],
   "source": [
    "# #replacing breeds of animals with low observations to others (this may be redundant\n",
    "# #based on following code)\n",
    "\n",
    "# #replacing breeds of animals with low observations to others\n",
    "\n",
    "# a = df.breed.value_counts()\n",
    "# m = df.breed.isin(a.index[a<100])\n",
    "\n",
    "\n",
    "# df.loc[m, 'breed'] = 'Other'\n"
   ]
  },
  {
   "cell_type": "code",
   "execution_count": null,
   "metadata": {},
   "outputs": [],
   "source": [
    "# #dummy breeds\n",
    "\n",
    "# breed_dummies = pd.get_dummies(df['breed'], prefix=\"breed\")\n",
    "# breed_dummies.head()\n",
    "\n",
    "# df = pd.concat([df, breed_dummies],axis=1)\n",
    "# df.drop(['breed'], axis=1, inplace=True)"
   ]
  },
  {
   "cell_type": "markdown",
   "metadata": {},
   "source": [
    "## Feature Selection"
   ]
  },
  {
   "cell_type": "code",
   "execution_count": 79,
   "metadata": {},
   "outputs": [
    {
     "name": "stdout",
     "output_type": "stream",
     "text": [
      "[[ 366   95]\n",
      " [  28 3265]]\n",
      "              precision    recall  f1-score   support\n",
      "\n",
      "           0       0.93      0.79      0.86       461\n",
      "           1       0.97      0.99      0.98      3293\n",
      "\n",
      "   micro avg       0.97      0.97      0.97      3754\n",
      "   macro avg       0.95      0.89      0.92      3754\n",
      "weighted avg       0.97      0.97      0.97      3754\n",
      "\n",
      "Test F1 Score:  0.9815120998045994\n",
      "Test Accuracy Score:  0.9672349493873202\n"
     ]
    }
   ],
   "source": [
    "#running a baseline model\n",
    "\n",
    "target = pd.DataFrame(df, columns = ['adopted'])\n",
    "features = df.drop(['adopted'], axis=1)\n",
    "\n",
    "regression = LogisticRegression()\n",
    "\n",
    "X_train, X_test, y_train, y_test = train_test_split(features, target, random_state=17, test_size=0.2)\n",
    "\n",
    "# crossvalidation = KFold(n_splits=10, shuffle=True, random_state=1)\n",
    "# baseline = np.mean(cross_val_score(regression, , y, scoring=\"r2\", cv=crossvalidation))\n",
    "\n",
    "\n",
    "#create our estimator\n",
    "lr = LogisticRegression()\n",
    "lr.fit(X_train, y_train)\n",
    "lr_y_pred = lr.predict(X_test)\n",
    "\n",
    "print(confusion_matrix(y_test, lr_y_pred))\n",
    "print(classification_report(y_test, lr_y_pred))\n",
    "print('Test F1 Score: ', f1_score(y_test, lr_y_pred))\n",
    "print('Test Accuracy Score: ', accuracy_score(y_test, lr_y_pred))"
   ]
  },
  {
   "cell_type": "code",
   "execution_count": null,
   "metadata": {},
   "outputs": [],
   "source": [
    "\"\"\"\n",
    "From confusion matrix:\n",
    "    \n",
    "True Positive: 3265\n",
    "False Negative: 28\n",
    "True Negative: 366\n",
    "False Positive: 95\n",
    "\n",
    "False positives are cats that were predicted as live release\n",
    "(adopted) but were actually euthanized.\n",
    "\n",
    "False negatives are cats that were predicted as euthanized \n",
    "but were actually live released.\n",
    "\n",
    "Need to focus on a cat that is predicted as live release (adopted)\n",
    "but is euthanized, therefore, I am concerned with having low false\n",
    "positives and high precision. \n",
    "\n",
    "\"\"\""
   ]
  },
  {
   "cell_type": "markdown",
   "metadata": {},
   "source": [
    "## Use F-Test to View Top Variables"
   ]
  },
  {
   "cell_type": "code",
   "execution_count": null,
   "metadata": {},
   "outputs": [],
   "source": [
    "selector=SelectKBest(f_regression, k=40)\n",
    "selector.fit(X_train, y_train)\n",
    "best_columns = X_train.columns[selector.get_support()]\n",
    "other_columns = X_train.columns[~selector.get_support()]"
   ]
  },
  {
   "cell_type": "code",
   "execution_count": null,
   "metadata": {},
   "outputs": [],
   "source": [
    "list(best_columns)"
   ]
  },
  {
   "cell_type": "code",
   "execution_count": null,
   "metadata": {},
   "outputs": [],
   "source": [
    "list(other_columns)"
   ]
  },
  {
   "cell_type": "code",
   "execution_count": null,
   "metadata": {},
   "outputs": [],
   "source": [
    "# X_train = X_train[best_columns]\n",
    "# X_test = X_test[best_columns]"
   ]
  },
  {
   "cell_type": "markdown",
   "metadata": {},
   "source": [
    "## Use Recursive Feature Elimination"
   ]
  },
  {
   "cell_type": "code",
   "execution_count": null,
   "metadata": {},
   "outputs": [],
   "source": [
    "ols = linear_model.LinearRegression()\n",
    "selector = RFECV(estimator=ols, step=1, cv=5, scoring='neg_mean_squared_error')\n",
    "selector.fit(X_train, y_train)"
   ]
  },
  {
   "cell_type": "code",
   "execution_count": null,
   "metadata": {},
   "outputs": [],
   "source": [
    "selected_columns = X_train.columns[selector.support_]\n",
    "removed_columns = X_train.columns[~selector.support_]"
   ]
  },
  {
   "cell_type": "code",
   "execution_count": null,
   "metadata": {},
   "outputs": [],
   "source": [
    "len(list(selected_columns))"
   ]
  },
  {
   "cell_type": "code",
   "execution_count": null,
   "metadata": {},
   "outputs": [],
   "source": [
    "list(selected_columns)"
   ]
  },
  {
   "cell_type": "code",
   "execution_count": null,
   "metadata": {},
   "outputs": [],
   "source": [
    "list(removed_columns)"
   ]
  },
  {
   "cell_type": "markdown",
   "metadata": {},
   "source": [
    "## Removing Variables Based on Correlation Coeeficient"
   ]
  },
  {
   "cell_type": "code",
   "execution_count": null,
   "metadata": {},
   "outputs": [],
   "source": [
    "#Plots a heatmap of correlation between features with masking\n",
    "fig, ax = plt.subplots(figsize=(20,20))\n",
    "mask=np.zeros_like(df.corr(), dtype=np.bool)\n",
    "mask[np.triu_indices_from(mask)] = True\n",
    "color_map = sns.color_palette(\"hot_r\")\n",
    "ax = sns.heatmap(df.corr(), cmap = color_map, mask=mask, square=True, annot=True)"
   ]
  },
  {
   "cell_type": "code",
   "execution_count": null,
   "metadata": {},
   "outputs": [],
   "source": [
    "# Find index of feature columns with correlation greater than 0.95\n",
    "corr_matrix = X_train.corr().abs()\n",
    "upper = corr_matrix.where(np.triu(np.ones(corr_matrix.shape), k=1).astype(np.bool))\n",
    "to_drop = [column for column in upper.columns if any(upper[column] > 0.95)]\n",
    "to_drop"
   ]
  },
  {
   "cell_type": "markdown",
   "metadata": {},
   "source": [
    "## Handling Class Imbalance/Resampling"
   ]
  },
  {
   "cell_type": "code",
   "execution_count": null,
   "metadata": {},
   "outputs": [],
   "source": [
    "# features from baseline model are best features"
   ]
  },
  {
   "cell_type": "code",
   "execution_count": null,
   "metadata": {},
   "outputs": [],
   "source": [
    "len(features.columns)"
   ]
  },
  {
   "cell_type": "code",
   "execution_count": null,
   "metadata": {
    "scrolled": true
   },
   "outputs": [],
   "source": [
    "sns.countplot(df['adopted'])\n",
    "plt.title('Adoptions of Cats Compared to Euthanasia')\n",
    "plt.show()"
   ]
  },
  {
   "cell_type": "markdown",
   "metadata": {},
   "source": [
    "## Run a Classification Model with Class Imbalance"
   ]
  },
  {
   "cell_type": "code",
   "execution_count": null,
   "metadata": {},
   "outputs": [],
   "source": [
    "lr_clf = LogisticRegression()\n",
    "lr_clf.fit(X_train, y_train)\n",
    "y_pred_test = lr_clf.predict(X_test)\n",
    "# checking accuracy\n",
    "print('Test Accuracy score: ', accuracy_score(y_test, y_pred_test))\n",
    "# checking accuracy\n",
    "print('Test F1 score: ', f1_score(y_test, y_pred_test))\n",
    "\n",
    "print(confusion_matrix(y_test, y_pred_test))\n",
    "print(classification_report(y_test, y_pred_test))"
   ]
  },
  {
   "cell_type": "code",
   "execution_count": null,
   "metadata": {},
   "outputs": [],
   "source": [
    "#concatenate our training data back together\n",
    "\n",
    "training = pd.concat([X_train, y_train], axis=1)\n",
    "\n",
    "#separate minority and majority classes\n",
    "\n",
    "euth = training[training['adopted'] == 0]\n",
    "adopt = training[training['adopted'] == 1]"
   ]
  },
  {
   "cell_type": "code",
   "execution_count": null,
   "metadata": {},
   "outputs": [],
   "source": [
    "#get a class count to understand the class imbalance\n",
    "\n",
    "print('Euthanasia Count: ' + str(len(euth)))\n",
    "print('Adoption Count: ' + str(len(adopt)))"
   ]
  },
  {
   "cell_type": "code",
   "execution_count": null,
   "metadata": {},
   "outputs": [],
   "source": [
    "# Over-Sampling: SMOTE\n",
    "\n",
    "sm = SMOTE(random_state=17, ratio=1.0)\n",
    "X_resampled1, y_resampled1 = sm.fit_sample(X_train, y_train)\n",
    "\n",
    "smote_lr = LogisticRegression(solver='liblinear')\n",
    "smote_lr.fit(X_resampled1, y_resampled1)\n",
    "smote_pred = smote_lr.predict(X_test)\n",
    "\n",
    "print('Test Accuracy score: ', accuracy_score(y_test, smote_pred))\n",
    "print('Test F1 score: ', f1_score(y_test, smote_pred))\n",
    "\n",
    "print(confusion_matrix(y_test, smote_pred))\n",
    "print(classification_report(y_test, smote_pred))\n",
    "\n",
    "# smote_dt = DecisionTreeClassifier(max_depth=5)\n",
    "# smote_dt.fit(X_resampled1, y_resampled1)\n",
    "# smote_pred = smote_dt.predict(X_test)\n",
    "# checking accuracy\n",
    "# checking accuracy"
   ]
  },
  {
   "cell_type": "code",
   "execution_count": null,
   "metadata": {},
   "outputs": [],
   "source": [
    "# Under-Sampling: Tomek Links\n",
    "\n",
    "tl = TomekLinks()\n",
    "X_resampled2, y_resampled2 = tl.fit_resample(X_train, y_train)\n",
    "print('Resampled dataset shape %s' % Counter(y_resampled2))"
   ]
  },
  {
   "cell_type": "code",
   "execution_count": null,
   "metadata": {},
   "outputs": [],
   "source": [
    "# remove Tomek links\n",
    "tl = TomekLinks(return_indices=True)\n",
    "X_resampled, y_resampled, idx_resampled = tl.fit_sample(X_resampled2, y_resampled2)"
   ]
  },
  {
   "cell_type": "code",
   "execution_count": null,
   "metadata": {},
   "outputs": [],
   "source": [
    "tomek_lr = LogisticRegression()\n",
    "tomek_lr.fit(X_resampled, y_resampled)\n",
    "tomek_pred = tomek_lr.predict(X_test)\n",
    "# checking accuracy\n",
    "print('Test Accuracy score: ', accuracy_score(y_test, tomek_pred))\n",
    "# checking accuracy\n",
    "print('Test F1 score: ', f1_score(y_test, tomek_pred))\n",
    "\n",
    "print(confusion_matrix(y_test, tomek_pred))\n",
    "print(classification_report(y_test, tomek_pred))"
   ]
  },
  {
   "cell_type": "code",
   "execution_count": null,
   "metadata": {},
   "outputs": [],
   "source": [
    "len(X_train)"
   ]
  },
  {
   "cell_type": "code",
   "execution_count": null,
   "metadata": {},
   "outputs": [],
   "source": [
    "len(X_resampled2)"
   ]
  },
  {
   "cell_type": "markdown",
   "metadata": {},
   "source": [
    "## Run Models: Use Grid Search for Hyperparameter Tuning"
   ]
  },
  {
   "cell_type": "markdown",
   "metadata": {},
   "source": [
    "### Decision Tree"
   ]
  },
  {
   "cell_type": "code",
   "execution_count": null,
   "metadata": {},
   "outputs": [],
   "source": [
    "# creating our parameters to test\n",
    "parameters={'criterion': ['gini','entropy'], \n",
    "            'min_samples_leaf' : range(5,100,15),\n",
    "            'max_depth': range(2,20,1)}\n",
    "#create our estimaor\n",
    "clf_tree=DecisionTreeClassifier(random_state=1)\n",
    "#create the instance of GridSearchCV\n",
    "grid_tree=GridSearchCV(clf_tree, parameters, cv=5, scoring='f1', verbose=2)\n",
    "#fit the Gridsearch to our data\n",
    "grid_tree.fit(X_resampled,y_resampled)"
   ]
  },
  {
   "cell_type": "code",
   "execution_count": null,
   "metadata": {},
   "outputs": [],
   "source": [
    "# Examine the best model\n",
    "\n",
    "# Single best score achieved across all params (min_samples_split)\n",
    "print(grid_tree.best_score_)\n",
    "\n",
    "# Dictionary containing the parameters (min_samples_split) used to generate that score\n",
    "print(grid_tree.best_params_)\n",
    "\n",
    "# Actual model object fit with those best parameters\n",
    "# Shows default parameters that we did not specify\n",
    "print(grid_tree.best_estimator_)"
   ]
  },
  {
   "cell_type": "code",
   "execution_count": null,
   "metadata": {
    "scrolled": true
   },
   "outputs": [],
   "source": [
    "#Predict the response for test dataset\n",
    "y_pred = grid_tree.best_estimator_.predict(X_test)\n",
    "\n",
    "# Model Accuracy, how often is the classifier correct?\n",
    "print(\"F1:\",metrics.f1_score(y_test, y_pred))\n",
    "print(\"Accuracy:\",metrics.accuracy_score(y_test, y_pred))\n",
    "print(\"Precision:\",metrics.precision_score(y_test, y_pred))\n",
    "print(\"Recall:\",metrics.recall_score(y_test, y_pred))\n",
    "\n",
    "conf_matrix = confusion_matrix(y_test, y_pred)\n",
    "print(conf_matrix)\n",
    "print(classification_report(y_test, y_pred))"
   ]
  },
  {
   "cell_type": "code",
   "execution_count": null,
   "metadata": {},
   "outputs": [],
   "source": [
    "# Sensitivity of model: Percentage of positives correctly identified\n",
    "print('The sensitivity is: ' + str(conf_matrix[1][1] / (conf_matrix[1][0] + conf_matrix[1][1])))\n",
    "\n",
    "# Specificity of the model: Percentage of negatives correctly identified\n",
    "print('The specificity is: ' + str(conf_matrix[0][0] / (conf_matrix[0][0] + conf_matrix[0][1])))"
   ]
  },
  {
   "cell_type": "markdown",
   "metadata": {},
   "source": [
    "The model has high sensitivity and ok specificity. This means that the model is very good at predicting both adoptions and is ok at predicting not adoptions."
   ]
  },
  {
   "cell_type": "markdown",
   "metadata": {},
   "source": [
    "false negatives (30 instances where the model predicted not adoption when it was an adoption) \n",
    "false positive (97 instances where the model predicted adoption when it wasn't an adoption)"
   ]
  },
  {
   "cell_type": "code",
   "execution_count": null,
   "metadata": {},
   "outputs": [],
   "source": [
    "# # Render our tree.\n",
    "# dot_data = tree.export_graphviz(\n",
    "#     clf_tree, out_file=None,\n",
    "#     feature_names=X_resampled.columns,\n",
    "#     class_names=['Not Adopted', 'Adopted'],\n",
    "#     filled=True\n",
    "# )\n",
    "# graph = pydotplus.graph_from_dot_data(dot_data)\n",
    "# Image(graph.create_png())"
   ]
  },
  {
   "cell_type": "code",
   "execution_count": null,
   "metadata": {},
   "outputs": [],
   "source": [
    "# #how important each feature ended up being in our Decision Tree model\n",
    "#grid_tree.feature_importances_"
   ]
  },
  {
   "cell_type": "code",
   "execution_count": null,
   "metadata": {},
   "outputs": [],
   "source": [
    "# def plot_feature_importances(model):\n",
    "#     n_features = X_train.shape[1]\n",
    "#     plt.figure(figsize=(8,8))\n",
    "#     plt.barh(range(n_features), model.feature_importances_, align='center') \n",
    "#     plt.yticks(np.arange(n_features), X_train.columns.values) \n",
    "#     plt.xlabel(\"Feature importance\")\n",
    "#     plt.ylabel(\"Feature\")\n",
    "\n",
    "# plot_feature_importances(grid_tree)"
   ]
  },
  {
   "cell_type": "markdown",
   "metadata": {},
   "source": [
    "### Bagged Trees"
   ]
  },
  {
   "cell_type": "code",
   "execution_count": null,
   "metadata": {},
   "outputs": [],
   "source": [
    "bagged_tree =  BaggingClassifier(DecisionTreeClassifier(criterion='gini', max_depth=5), n_estimators=20)"
   ]
  },
  {
   "cell_type": "code",
   "execution_count": null,
   "metadata": {},
   "outputs": [],
   "source": [
    "bagged_tree.fit(X_train, y_train)"
   ]
  },
  {
   "cell_type": "code",
   "execution_count": null,
   "metadata": {},
   "outputs": [],
   "source": [
    "#accuracy score for training data\n",
    "bagged_tree.score(X_train, y_train)\n",
    "#accuracy score for testing data\n",
    "bagged_tree.score(X_test, y_test)\n",
    "#accuracy score for testing data\n",
    "\n",
    "#print(confusion_matrix(y_test, smote_pred))\n",
    "#print(classification_report(y_test, smote_pred))"
   ]
  },
  {
   "cell_type": "markdown",
   "metadata": {},
   "source": [
    "### Random Forests"
   ]
  },
  {
   "cell_type": "code",
   "execution_count": null,
   "metadata": {
    "scrolled": true
   },
   "outputs": [],
   "source": [
    "forest = RandomForestClassifier(n_estimators=100, max_depth= 5)\n",
    "forest.fit(X_train, y_train)\n",
    "\n",
    "#should I be using X_resampled and y_resampled?"
   ]
  },
  {
   "cell_type": "code",
   "execution_count": null,
   "metadata": {},
   "outputs": [],
   "source": [
    "y_pred = forest.fit(X_train, y_train).predict(X_train)"
   ]
  },
  {
   "cell_type": "code",
   "execution_count": null,
   "metadata": {},
   "outputs": [],
   "source": [
    "#accuracy score for training data\n",
    "print(forest.score(X_train, y_train))\n",
    "#accuracy score for testing data\n",
    "print(forest.score(X_test, y_test))\n",
    "\n",
    "print(cross_val_score(forest, features, target, cv=5))"
   ]
  },
  {
   "cell_type": "code",
   "execution_count": null,
   "metadata": {},
   "outputs": [],
   "source": [
    "confusion_matrix(y_test, y_pred_test)\n",
    "print(classification_report(y_test, y_pred_test))"
   ]
  },
  {
   "cell_type": "code",
   "execution_count": null,
   "metadata": {},
   "outputs": [],
   "source": [
    "feature_importances = forest.feature_importances_\n",
    "\n",
    "importances = pd.DataFrame({'importance': feature_importances, 'feature': features.columns}, \n",
    "                           index=features.columns).sort_values(by='importance', ascending=False)\n",
    "\n",
    "sns.set(font_scale=1.50)\n",
    "plt.figure(figsize=(15, 5))\n",
    "plt.xticks(rotation=90)\n",
    "sns.barplot(x='feature', y='importance', data=importances[0:15])"
   ]
  },
  {
   "cell_type": "code",
   "execution_count": null,
   "metadata": {
    "scrolled": true
   },
   "outputs": [],
   "source": [
    "# #plotting the important features in our random forest\n",
    "# plot_feature_importances(forest)"
   ]
  },
  {
   "cell_type": "code",
   "execution_count": null,
   "metadata": {},
   "outputs": [],
   "source": [
    "#Making max_features smaller will lead to very different trees in your forest!\n",
    "forest_2 = RandomForestClassifier(n_estimators = 5, max_features= 10, max_depth= 2)\n",
    "forest_2.fit(X_train, y_train)"
   ]
  },
  {
   "cell_type": "code",
   "execution_count": null,
   "metadata": {},
   "outputs": [],
   "source": [
    "#looking at the first tree in forest_2\n",
    "rf_tree_1 = forest_2.estimators_[0]"
   ]
  },
  {
   "cell_type": "code",
   "execution_count": null,
   "metadata": {},
   "outputs": [],
   "source": [
    "# #plotting the important features in the first tree of forest 2\n",
    "# plot_feature_importances(rf_tree_1)"
   ]
  },
  {
   "cell_type": "code",
   "execution_count": null,
   "metadata": {},
   "outputs": [],
   "source": [
    "#looking at the second tree in forest_2\n",
    "rf_tree_2 = forest_2.estimators_[1]"
   ]
  },
  {
   "cell_type": "code",
   "execution_count": null,
   "metadata": {},
   "outputs": [],
   "source": [
    "#plotting the important features in the second tree of forest 2\n",
    "plot_feature_importances(rf_tree_2)"
   ]
  },
  {
   "cell_type": "markdown",
   "metadata": {},
   "source": [
    "### Logistic Regression"
   ]
  },
  {
   "cell_type": "code",
   "execution_count": null,
   "metadata": {},
   "outputs": [],
   "source": [
    "lr_clf = LogisticRegression()\n",
    "parameters = {'penalty':['l1', 'l2'],\n",
    "             'C': [.5,1,.1]}\n",
    "grid_lr=GridSearchCV(estimator=lr_clf, param_grid=parameters, cv=5, scoring='f1')\n",
    "grid_lr.fit(X_resampled, y_resampled)"
   ]
  },
  {
   "cell_type": "code",
   "execution_count": null,
   "metadata": {},
   "outputs": [],
   "source": [
    "# Single best score achieved across all params (min_samples_split)\n",
    "print(grid_lr.best_score_)\n",
    "\n",
    "# Dictionary containing the parameters (min_samples_split) used to generate that score\n",
    "print(grid_lr.best_params_)\n",
    "\n",
    "# Actual model object fit with those best parameters\n",
    "# Shows default parameters that we did not specify\n",
    "print(grid_lr.best_estimator_)"
   ]
  },
  {
   "cell_type": "code",
   "execution_count": null,
   "metadata": {},
   "outputs": [],
   "source": [
    "#Predict the response for test dataset\n",
    "y_pred_lr = grid_lr.best_estimator_.predict(X_test)\n",
    "\n",
    "# Model Accuracy, how often is the classifier correct?\n",
    "print(\"F1:\",metrics.f1_score(y_test, y_pred_lr))\n",
    "print(\"Accuracy:\",metrics.accuracy_score(y_test, y_pred_lr))\n",
    "print(\"Precision:\",metrics.precision_score(y_test, y_pred_lr))\n",
    "print(\"Recall:\",metrics.recall_score(y_test, y_pred_lr))\n",
    "\n",
    "print(confusion_matrix(y_test, y_pred_lr))\n",
    "print(classification_report(y_test, y_pred_lr))"
   ]
  },
  {
   "cell_type": "markdown",
   "metadata": {},
   "source": [
    "### KNN"
   ]
  },
  {
   "cell_type": "code",
   "execution_count": null,
   "metadata": {},
   "outputs": [],
   "source": [
    "# # Run a KNN Model with the Resampled Data\n",
    "# knn = KNeighborsClassifier(metric='euclidean')\n",
    "# parameters = {'n_neighbors':[1,2,3,4,5],\n",
    "#               'weights':['uniform', 'distance'], \n",
    "#               'leaf_size':[15,30],\n",
    "#               'p':[1,2]}\n",
    "# grid_knn=GridSearchCV(estimator = knn, param_grid=parameters, cv=5, scoring='f1', verbose=2)\n",
    "# grid_knn.fit(X_resampled2, y_resampled2)"
   ]
  },
  {
   "cell_type": "code",
   "execution_count": null,
   "metadata": {},
   "outputs": [],
   "source": [
    "# # Single best score achieved across all params (min_samples_split)\n",
    "# print(grid_knn.best_score_)\n",
    "\n",
    "# # Dictionary containing the parameters (min_samples_split) used to generate that score\n",
    "# print(grid_knn.best_params_)"
   ]
  },
  {
   "cell_type": "code",
   "execution_count": null,
   "metadata": {},
   "outputs": [],
   "source": [
    "# #Predict the response for test dataset\n",
    "# y_pred_knn = grid_knn.best_estimator_.predict(X_test)\n",
    "\n",
    "# # Model Accuracy, how often is the classifier correct?\n",
    "# print(\"F1:\",metrics.f1_score(y_test, y_pred_knn))\n",
    "# print(\"Accuracy:\",metrics.accuracy_score(y_test, y_pred_knn))\n",
    "# print(\"Precision:\",metrics.precision_score(y_test, y_pred_knn))\n",
    "# print(\"Recall:\",metrics.recall_score(y_test, y_pred_knn))\n",
    "\n",
    "# print(confusion_matrix(y_test, y_pred_knn))\n",
    "# print(classification_report(y_test, y_pred_knn))"
   ]
  },
  {
   "cell_type": "code",
   "execution_count": null,
   "metadata": {},
   "outputs": [],
   "source": []
  },
  {
   "cell_type": "code",
   "execution_count": null,
   "metadata": {},
   "outputs": [],
   "source": []
  },
  {
   "cell_type": "code",
   "execution_count": null,
   "metadata": {},
   "outputs": [],
   "source": []
  },
  {
   "cell_type": "code",
   "execution_count": null,
   "metadata": {},
   "outputs": [],
   "source": []
  },
  {
   "cell_type": "code",
   "execution_count": null,
   "metadata": {},
   "outputs": [],
   "source": [
    "# #Create DataFrame with all 2 degree Interactions & Polynomials\n",
    "\n",
    "# # Create new df\n",
    "# p = PolynomialFeatures(degree=2).fit(df)\n",
    "# features = pd.DataFrame(p.transform(df), columns=p.get_feature_names(df.columns))\n",
    "\n",
    "# # Do not include interactions with price_log\n",
    "# col_list = list(features.columns)\n",
    "# to_remove = list(filter(lambda col : \"price\" in col,col_list))\n",
    "# to_remove.remove('outcome_type')\n",
    "# features.drop(to_remove,axis=1,inplace=True)\n"
   ]
  },
  {
   "cell_type": "code",
   "execution_count": null,
   "metadata": {},
   "outputs": [],
   "source": [
    "# #Create DataFrame with Best Interaction & Best Polynomial\n",
    "\n",
    "# # Get the r2 for each feature independently predicting log_price\n",
    "# results = []\n",
    "# for col in features.columns:\n",
    "#     if col != \"outcome_type\":\n",
    "#         model = LinearRegression()\n",
    "#         remove_list = list(features.columns)\n",
    "#         remove_list.remove(col)\n",
    "        \n",
    "#         model.fit(features.drop(remove_list,axis=1),features.outcome_type)\n",
    "#         results.append((col,score(features,model,[col])))\n",
    "\n",
    "# # Sort them to find the best interactions\n",
    "# best_interaction = sorted(results,key=lambda inst : inst[1],reverse=True)\n",
    "\n",
    "# #index 0 is the best interaction, 6 is the best polynomial\n",
    "# selected_interactions = [best_interaction[0],best_interaction[6]]\n",
    "# selected_model = features.copy()\n",
    "# remove_these = list(selected_model.columns)\n",
    "# # keep the best interaction\n",
    "# for col in selected_interactions:\n",
    "#     remove_these.remove(col[0])\n",
    "# # keep original features\n",
    "# for col in df.columns:\n",
    "#     remove_these.remove(col)\n",
    "\n",
    "# # Drop all interactions that are not the best\n",
    "# selected_model = selected_model.drop(remove_these,axis=1)"
   ]
  },
  {
   "cell_type": "code",
   "execution_count": null,
   "metadata": {},
   "outputs": [],
   "source": [
    "len(df)"
   ]
  },
  {
   "cell_type": "code",
   "execution_count": null,
   "metadata": {},
   "outputs": [],
   "source": []
  }
 ],
 "metadata": {
  "kernelspec": {
   "display_name": "Python 3",
   "language": "python",
   "name": "python3"
  },
  "language_info": {
   "codemirror_mode": {
    "name": "ipython",
    "version": 3
   },
   "file_extension": ".py",
   "mimetype": "text/x-python",
   "name": "python",
   "nbconvert_exporter": "python",
   "pygments_lexer": "ipython3",
   "version": "3.7.3"
  }
 },
 "nbformat": 4,
 "nbformat_minor": 2
}
